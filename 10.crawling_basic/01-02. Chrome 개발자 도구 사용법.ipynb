{
 "cells": [
  {
   "cell_type": "markdown",
   "metadata": {},
   "source": [
    "### 데이터 수집 사전 지식\n",
    "- 크롤링 vs 스크랩핑 차이\n",
    "    - 목적 : 데이터 수집\n",
    "    - 크롤링 : 데이터의 양 우선/내가 정해놓은 규칙에 맞게 또는 무작위로 일정한 시간 간격으로 데이터 수집\n",
    "    - 스크랩핑 : 웹사이트의 데이터를 수집하는 것은 맞지만 범위가 작다.\n",
    "    \n",
    "    \n",
    "- HTML Tag\n",
    "    - HTML은 tag로 구성되어있다.\n",
    "    \n",
    "    \n",
    "- 크롬 개발자 도구\n",
    "    - Elements Tab - CSS Selector\n",
    "    - Network Tab - Http 처리 과정"
   ]
  },
  {
   "cell_type": "markdown",
   "metadata": {},
   "source": [
    "### 사전 기초 지식\n",
    "- 대상 웹페이지 조건 확인 robots.txt\n",
    "    - ex) naver.com/robots.txt\n",
    "- 크롤러 분류 - 상태 유무, Javscript 유무\n",
    "- Request 요청 주의할 점 - 서버 부하 고려\n",
    "- 콘텐츠 저작권 문제\n",
    "- 페이지 구조 변경 가능성 숙지"
   ]
  },
  {
   "cell_type": "code",
   "execution_count": null,
   "metadata": {},
   "outputs": [],
   "source": []
  }
 ],
 "metadata": {
  "kernelspec": {
   "display_name": "Python 3",
   "language": "python",
   "name": "python3"
  },
  "language_info": {
   "codemirror_mode": {
    "name": "ipython",
    "version": 3
   },
   "file_extension": ".py",
   "mimetype": "text/x-python",
   "name": "python",
   "nbconvert_exporter": "python",
   "pygments_lexer": "ipython3",
   "version": "3.7.5"
  }
 },
 "nbformat": 4,
 "nbformat_minor": 2
}
