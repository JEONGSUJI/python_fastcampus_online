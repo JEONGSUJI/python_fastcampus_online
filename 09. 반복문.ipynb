{
 "cells": [
  {
   "cell_type": "markdown",
   "metadata": {},
   "source": [
    "### for, while\n",
    "- 파이썬 코딩의 핵심\n",
    "- 시퀀스 타입 반복\n",
    "- Continue, Break\n",
    "- For - else 구문\n",
    "- 자료구조 변환"
   ]
  },
  {
   "cell_type": "code",
   "execution_count": 1,
   "metadata": {},
   "outputs": [
    {
     "name": "stdout",
     "output_type": "stream",
     "text": [
      "v1 is : 1\n",
      "v1 is : 2\n",
      "v1 is : 3\n",
      "v1 is : 4\n",
      "v1 is : 5\n",
      "v1 is : 6\n",
      "v1 is : 7\n",
      "v1 is : 8\n",
      "v1 is : 9\n",
      "v1 is : 10\n"
     ]
    }
   ],
   "source": [
    "v1 = 1\n",
    "while v1 < 11:\n",
    "    print('v1 is :', v1)\n",
    "    v1 += 1"
   ]
  },
  {
   "cell_type": "code",
   "execution_count": 2,
   "metadata": {},
   "outputs": [
    {
     "name": "stdout",
     "output_type": "stream",
     "text": [
      "v2 is: 0\n",
      "v2 is: 1\n",
      "v2 is: 2\n",
      "v2 is: 3\n",
      "v2 is: 4\n",
      "v2 is: 5\n",
      "v2 is: 6\n",
      "v2 is: 7\n",
      "v2 is: 8\n",
      "v2 is: 9\n"
     ]
    }
   ],
   "source": [
    "for v2 in range(10):\n",
    "    print('v2 is:', v2)"
   ]
  },
  {
   "cell_type": "code",
   "execution_count": 5,
   "metadata": {},
   "outputs": [
    {
     "name": "stdout",
     "output_type": "stream",
     "text": [
      "1부터 100까지의 합: 5050\n"
     ]
    }
   ],
   "source": [
    "# 1부터 100까지의 합\n",
    "\n",
    "sum1 = 0\n",
    "cnt1 = 1\n",
    "\n",
    "while cnt1 <= 100:\n",
    "    sum1 += cnt1\n",
    "    cnt1 += 1\n",
    "\n",
    "print('1부터 100까지의 합:', sum1)"
   ]
  },
  {
   "cell_type": "code",
   "execution_count": 6,
   "metadata": {},
   "outputs": [
    {
     "name": "stdout",
     "output_type": "stream",
     "text": [
      "1부터 100까지의 합: 5050\n"
     ]
    }
   ],
   "source": [
    "# 1부터 100까지의 합\n",
    "print('1부터 100까지의 합:', sum(range(1,101)))"
   ]
  },
  {
   "cell_type": "code",
   "execution_count": 9,
   "metadata": {},
   "outputs": [
    {
     "name": "stdout",
     "output_type": "stream",
     "text": [
      "You are Kim\n",
      "You are Park\n",
      "You are Choi\n"
     ]
    }
   ],
   "source": [
    "# 시퀀스(순서가 있는) 자료형 반복\n",
    "# 문자열, 리스트, 튜플, 집합, 사전\n",
    "# iterable: range, reversed, enumerate, filter, map, zip\n",
    "\n",
    "names = ['Kim', 'Park', 'Choi']\n",
    "\n",
    "for name in names:\n",
    "    print('You are', name)"
   ]
  },
  {
   "cell_type": "code",
   "execution_count": 10,
   "metadata": {},
   "outputs": [
    {
     "name": "stdout",
     "output_type": "stream",
     "text": [
      "word: d\n",
      "word: r\n",
      "word: e\n",
      "word: a\n",
      "word: m\n",
      "word: s\n"
     ]
    }
   ],
   "source": [
    "word = 'dreams'\n",
    "\n",
    "for s in word:\n",
    "    print(\"word:\", s)"
   ]
  },
  {
   "cell_type": "code",
   "execution_count": 13,
   "metadata": {},
   "outputs": [
    {
     "name": "stdout",
     "output_type": "stream",
     "text": [
      "my_info name\n",
      "my_info age\n",
      "my_info city\n",
      "my_info name\n",
      "my_info age\n",
      "my_info city\n"
     ]
    }
   ],
   "source": [
    "my_info = {\n",
    "    'name': 'kim',\n",
    "    'age': 33,\n",
    "    'city': 'seoul'\n",
    "}\n",
    "\n",
    "# dict 자료형에서는 기본값이 key가 출력된다.\n",
    "for key in my_info:\n",
    "    print('my_info', key)\n",
    "    \n",
    "# 해당과 같이 쓴 값과 위와같이 쓴 값이 동일하다.\n",
    "for key in my_info.keys():\n",
    "    print('my_info', key)"
   ]
  },
  {
   "cell_type": "code",
   "execution_count": 14,
   "metadata": {},
   "outputs": [
    {
     "name": "stdout",
     "output_type": "stream",
     "text": [
      "my_info kim\n",
      "my_info 33\n",
      "my_info seoul\n"
     ]
    }
   ],
   "source": [
    "# dict 자료형에서 값만 뽑아내고 싶은 경우는 values()를 사용한다.\n",
    "for key in my_info.values():\n",
    "    print('my_info', key)"
   ]
  },
  {
   "cell_type": "code",
   "execution_count": 16,
   "metadata": {},
   "outputs": [
    {
     "name": "stdout",
     "output_type": "stream",
     "text": [
      "my_info name kim\n",
      "my_info age 33\n",
      "my_info city seoul\n"
     ]
    }
   ],
   "source": [
    "# dict 자료형에서 키와 값을 모두 출력하고 싶을 때는 items()를 사용한다.\n",
    "for key, value in my_info.items():\n",
    "    print('my_info', key, value)"
   ]
  },
  {
   "cell_type": "code",
   "execution_count": 17,
   "metadata": {},
   "outputs": [
    {
     "name": "stdout",
     "output_type": "stream",
     "text": [
      "k\n",
      "E\n",
      "N\n",
      "N\n",
      "r\n",
      "y\n"
     ]
    }
   ],
   "source": [
    "name = 'KennRY'\n",
    "\n",
    "for n in name:\n",
    "    if n.isupper():\n",
    "        print(n.lower())\n",
    "    else:\n",
    "        print(n.upper())"
   ]
  },
  {
   "cell_type": "code",
   "execution_count": 22,
   "metadata": {},
   "outputs": [
    {
     "name": "stdout",
     "output_type": "stream",
     "text": [
      "not found: 33\n",
      "not found: 33\n",
      "not found: 33\n",
      "not found: 33\n",
      "not found: 33\n",
      "found : 33\n"
     ]
    }
   ],
   "source": [
    "# break 반복문 탈출\n",
    "\n",
    "numbers = [14, 4, 3, 10, 7, 33, 19, 24]\n",
    "\n",
    "# for - else 구문\n",
    "# 반복문이 정상적으로 수행된 경우 else 블럭 수행\n",
    "for num in numbers:\n",
    "    if num == 33:\n",
    "        print(\"found : 33\")\n",
    "        break\n",
    "    else:\n",
    "        print(\"not found: 33\")\n",
    "else:\n",
    "    print(\"not found: 33...\")"
   ]
  },
  {
   "cell_type": "code",
   "execution_count": 23,
   "metadata": {},
   "outputs": [
    {
     "name": "stdout",
     "output_type": "stream",
     "text": [
      "타입 <class 'str'>\n",
      "타입 <class 'int'>\n",
      "타입 <class 'int'>\n",
      "타입 <class 'bool'>\n",
      "타입 <class 'complex'>\n"
     ]
    }
   ],
   "source": [
    "# continue skip\n",
    "lt = [\"1\", 2, 4, True, 4.2, complex(4)]\n",
    "\n",
    "for v in lt:\n",
    "    if type(v) is float:\n",
    "        continue\n",
    "    print('타입', type(v))"
   ]
  },
  {
   "cell_type": "code",
   "execution_count": null,
   "metadata": {},
   "outputs": [],
   "source": []
  }
 ],
 "metadata": {
  "kernelspec": {
   "display_name": "Python 3",
   "language": "python",
   "name": "python3"
  },
  "language_info": {
   "codemirror_mode": {
    "name": "ipython",
    "version": 3
   },
   "file_extension": ".py",
   "mimetype": "text/x-python",
   "name": "python",
   "nbconvert_exporter": "python",
   "pygments_lexer": "ipython3",
   "version": "3.7.5"
  }
 },
 "nbformat": 4,
 "nbformat_minor": 2
}
