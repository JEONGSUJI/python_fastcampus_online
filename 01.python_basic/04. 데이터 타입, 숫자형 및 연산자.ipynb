{
 "cells": [
  {
   "cell_type": "markdown",
   "metadata": {},
   "source": [
    "### 파이썬의 데이터 타입 종류\n",
    "\n",
    "- Boolean\n",
    "    - 값은 True, False\n",
    "- Numbers\n",
    "- String\n",
    "- Bytes\n",
    "- Lists\n",
    "    - 다른 언어에서는 배열이라고 한다.\n",
    "- Tuples\n",
    "- Sets\n",
    "- Dictionaries\n",
    "\n",
    "+. Lists, Tuples, Sets, Dictionaries까지 총 4가지는 집합 자료형이라고 한다.\n",
    "\n",
    "#### type 확인\n",
    "- type(확인할 데이터 입력)\n",
    "\n",
    "\n",
    "### 숫자형 및 연산자\n",
    "해당은 여러번 배워서 생략함\n",
    "\n",
    "#### 형변환\n",
    "int, float, complex(복소수)\n",
    "\n",
    "#### 수치 연산 함수\n",
    "python에 관련된 함수들을 확인할 수 있는 사이트\n",
    "http://docs.python.org/3/library/math.html\n",
    "\n",
    "abs(): 절대값 구하는 함수\n",
    "n,m = divmod(100, 8) // n은 몫, m은 나머지로 값이 두 개가 들어간다.\n",
    "math.ceil(): 올림\n",
    "math.floor(): 내림"
   ]
  },
  {
   "cell_type": "code",
   "execution_count": null,
   "metadata": {},
   "outputs": [],
   "source": []
  }
 ],
 "metadata": {
  "kernelspec": {
   "display_name": "Python 3",
   "language": "python",
   "name": "python3"
  },
  "language_info": {
   "codemirror_mode": {
    "name": "ipython",
    "version": 3
   },
   "file_extension": ".py",
   "mimetype": "text/x-python",
   "name": "python",
   "nbconvert_exporter": "python",
   "pygments_lexer": "ipython3",
   "version": "3.7.5"
  }
 },
 "nbformat": 4,
 "nbformat_minor": 2
}
