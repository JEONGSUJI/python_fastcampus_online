{
 "cells": [
  {
   "cell_type": "markdown",
   "metadata": {},
   "source": [
    "### 가상환경의 필요성\n",
    "- 사용하는 이유: 프로젝트마다 Python의 버전 등 환경변수가 다를 경우 각각에 맞는 가상환경을 세팅할 수 있기 때문이다.\n",
    "\n",
    "프로젝트 A: Python 3.5, Django, Web / 프로젝트 B: Numpy, Tensorflow, PyQT5 / 프로젝트 C: Web, Data Analysis, GUI APP\n",
    "\n",
    "위와 같이 여러 프로젝트가 진행되는 경우 각각 프로젝트의 환경에 맞게 세팅하고, 특정 프로젝트 종료 시 해당 가상환경만 지워주면 되기 때문에 관리가 편리하다.\n",
    "\n",
    "한 컴퓨터에서 여러 가상환경 세팅이 가능하다."
   ]
  },
  {
   "cell_type": "markdown",
   "metadata": {},
   "source": [
    "### 파이썬 가상환경 명령어 기초\n",
    "\n",
    "- 가상환경 설정\n",
    "    - 터미널에서 ```python -m venv [가상환경을 설정할 위치]``` 입력\n",
    "    > include, Lib, Scripts 폴더가 생성됨\n",
    "    \n",
    "- 가상환경 실행 / 해제\n",
    "    - 터미널에서 ```dir``` 입력 시 출력되는 정보에 window의 경우 Scripts 폴더, mac의 경우 bin 폴더에 가상환경을 on/off하는 파일이 있다.\n",
    "    - 터미널에서 ```cd Scripts```입력 ```activate.bat```입력 시 가상환경이 활성화된다.\n",
    "    - 터미널에서 ```deactivate.bat``` 입력 시 해당 가상환경을 빠져 나갈 수 있다.\n",
    "    \n",
    "    \n",
    "- 가상환경에 원하는 외부 패키지 설치\n",
    "    - 가상환경이 구동된 상황에서 원하는 패키지 등을 설치해 진행할 수 있다.\n",
    "    - ```pip search simplejson```: simplejson에 대한 정보가 출력된다.\n",
    "    - ```pip search simple*```: simple이 들어간 정보가 출력된다.\n",
    "    - ```pip install simplejson```: simplejson이 설치된다.\n",
    "    - ```pip install --upgrade simplejson```: simplejson이 업그레이드 된다.\n",
    "    - ```pip uninstall simplejson```: simplejson를 삭제할 수 있다.\n"
   ]
  },
  {
   "cell_type": "markdown",
   "metadata": {},
   "source": [
    "(19/12/10 수업시간 실습 내용 정리)\n",
    "\n",
    "### 가상환경 설정 및 Django 설치하기\n",
    "\n",
    "1. 가상환경을 만들 폴더로 이동하고 아래와 같이 실행한다.  \n",
    "    `pyenv virtualenv 3.7.5 <환경명>`  \n",
    "    `pyenv local <환경명>`\n",
    "    \n",
    "> 코드 분석:  \n",
    "`pyenv virtualenv 3.7.5 <환경명>`:  ~/pyenv/.versions/envs와 ~/pyenv/.versions 3.7.5와 연결됨  \n",
    "`pyenv local <환경명>`:  ~/pyenv/.versions/envs와 프로젝트 파일 경로와 연결됨\n",
    "    \n",
    "(+. git setting을 진행하여 버전 관리 `git init` / `.gitignore`)\n",
    "\n",
    "> **pyenv**\n",
    "    - python 버전 관리\n",
    "    - 컴퓨터에 하나의 python 버전만을 원래 설치할 수 있는데, pyenv를 사용하면 해당 환경에 python 버전을 여러개 설치할 수 있다.\n",
    "    - ~/pyenv/.version에 설치된다.\n",
    "    \n",
    "> **virtualenv**\n",
    "    - 한 컴퓨터를 여러명이 나누어 쓴다고 가정하듯, 시스템의 특정 구역에 설치할 것을 관리\n",
    "    - ~/pyenv/.version/envs에 설치된다. (program이 설치되는 것은 이 공간에서 설치된다)\n",
    "    - 각 project는 각각의 파일 경로를 가지고 있다.\n",
    "    예를 들어, project1/ proj1-env , project2/ proj2-env , project3/ proj3-env 처럼 각각의 프로젝트는 각각의 파일 경로를 가짐\n",
    "    \n",
    "2. Pycharm Interpreter 설정  \n",
    "    `charm .` 입력  \n",
    "    (단, 오류나는 경우 `pycharm-community .`을 입력해야한다. -> ubuntu software로 설치하면 오류가 날 수 있다고 함)\n",
    "    \n",
    "3. Pycharm 세팅\n",
    "    - Pycharm 실행 후 Project Interpreter가 None이면 Show all 한 다음, + , existing environment로 설정한다.\n",
    "    \n",
    "4. Django 설치하기  \n",
    "    `pip install 'django<3.0'`  \n",
    "    `pip list`  // 입력 후 Django있는지 확인하기  \n",
    "    `django-admin startproject config .`  \n",
    "    \n",
    "(+. `git init` 진행 시 파일이 3개만 있어야 한다. config, .gitignore, manage.py)\n",
    "\n",
    "    `./manage.py runserver` // 개발 서버 켜기, 사용 시 장점은 소스코드 변경 시 다시시작되고, 소스 오류 시 오류가 출력된다.\n",
    "    'localhost:8000' 접속\n",
    "    "
   ]
  },
  {
   "cell_type": "markdown",
   "metadata": {},
   "source": [
    "### 블로그 글 모델 만들기\n",
    "\n",
    "`manage.py startapp blog`\n",
    "\n",
    "+. DB Browser 설치\n",
    "변경되는 DB를 확인하기 위해 설치\n",
    "\n",
    "`sudo apt-get install sqlitebrowser`\n",
    "\n",
    "sqlite로 db.splite3 파일 열기\n",
    "\n",
    "`./manage.py migrate`  \n",
    "(변경 사항에 대해 데이터베이스를 저장하는 것)\n",
    "\n",
    "`./manage.py makemigrations`  \n",
    "`./manage.py migrate`\n",
    "\n",
    "sqlite로 db.splite3 파일 다시 열어 확인하기\n",
    "\n",
    "참고 사이트 : https://sqlitebrowser.org/"
   ]
  },
  {
   "cell_type": "code",
   "execution_count": null,
   "metadata": {},
   "outputs": [],
   "source": []
  }
 ],
 "metadata": {
  "kernelspec": {
   "display_name": "Python 3",
   "language": "python",
   "name": "python3"
  },
  "language_info": {
   "codemirror_mode": {
    "name": "ipython",
    "version": 3
   },
   "file_extension": ".py",
   "mimetype": "text/x-python",
   "name": "python",
   "nbconvert_exporter": "python",
   "pygments_lexer": "ipython3",
   "version": "3.7.5"
  }
 },
 "nbformat": 4,
 "nbformat_minor": 2
}
