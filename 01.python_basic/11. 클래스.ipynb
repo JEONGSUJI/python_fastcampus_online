{
 "cells": [
  {
   "cell_type": "markdown",
   "metadata": {},
   "source": [
    "### 클래스 선언 및 self의 이해\n",
    "\n",
    "- 클래스를 왜 알아야하는가?\n",
    "     - 프로그램의 덩치가 커지면 처리해야 할 데이터가 많아지면 유지보수 등 생산성이 떨어진다.\n",
    "     - 데이터를 효율적으로 관리하고, 코드의 반복을 없애고, 상속을 이용해 재활용하기 위해 클래스를 사용한다.  \n",
    "     \n",
    "     \n",
    "- 클래스 선언\n",
    "- 클래스 네임스페이스 self\n",
    "- 클래스, 인스턴스 변수\n",
    "    - 네임스페이스 : 객체를 인스턴스화 할 때 저장된 공간\n",
    "    - 클래스 변수 : 직접 사용 가능, 객체보다 먼저 생성\n",
    "    - 인스턴스 변수 : 각각 공간을 객체마다 별도로 존재, 인스턴스 생성 후 사용\n",
    "    \n",
    "- self\n",
    "\n",
    "- 클래스를 만든다는 것은 새로운 자료형을 만든다는 것과 같다."
   ]
  },
  {
   "cell_type": "code",
   "execution_count": 4,
   "metadata": {},
   "outputs": [],
   "source": [
    "# self, 클래스, 인스턴스 변수\n",
    "\n",
    "# 선언방법\n",
    "# 클래스명 선언 시 첫번째 문자는 대문자를 사용\n",
    "\n",
    "# class 클래스명:\n",
    "#   함수"
   ]
  },
  {
   "cell_type": "code",
   "execution_count": 12,
   "metadata": {},
   "outputs": [],
   "source": [
    "class UserInfo:\n",
    "    # 속성, 메소드\n",
    "    def __init__(self, name):\n",
    "        self.name = name\n",
    "    def user_info_p(self):\n",
    "        print(\"name: \", self.name)"
   ]
  },
  {
   "cell_type": "code",
   "execution_count": 18,
   "metadata": {},
   "outputs": [
    {
     "name": "stdout",
     "output_type": "stream",
     "text": [
      "Kim\n"
     ]
    }
   ],
   "source": [
    "# 인스턴스화 한다. = 할당한다.\n",
    "# 네임스페이스 => 인스턴스가 가지고 있는 저장공간을 의미한다.\n",
    "user1 = UserInfo('Kim')\n",
    "print(user1.name)"
   ]
  },
  {
   "cell_type": "code",
   "execution_count": 14,
   "metadata": {},
   "outputs": [
    {
     "name": "stdout",
     "output_type": "stream",
     "text": [
      "name:  Kim\n"
     ]
    }
   ],
   "source": [
    "user1.user_info_p()"
   ]
  },
  {
   "cell_type": "code",
   "execution_count": 20,
   "metadata": {},
   "outputs": [
    {
     "name": "stdout",
     "output_type": "stream",
     "text": [
      "Park\n"
     ]
    }
   ],
   "source": [
    "user2 = UserInfo('Park')\n",
    "print(user2.name)"
   ]
  },
  {
   "cell_type": "code",
   "execution_count": 17,
   "metadata": {},
   "outputs": [
    {
     "name": "stdout",
     "output_type": "stream",
     "text": [
      "name:  Park\n"
     ]
    }
   ],
   "source": [
    "user2.user_info_p()"
   ]
  },
  {
   "cell_type": "code",
   "execution_count": 27,
   "metadata": {},
   "outputs": [
    {
     "name": "stdout",
     "output_type": "stream",
     "text": [
      "140275417408656\n",
      "140275417466640\n",
      "{'name': 'Kim'}\n"
     ]
    }
   ],
   "source": [
    "print(id(user1))\n",
    "print(id(user2))\n",
    "print(user1.__dict__)"
   ]
  },
  {
   "cell_type": "code",
   "execution_count": 41,
   "metadata": {},
   "outputs": [
    {
     "name": "stdout",
     "output_type": "stream",
     "text": [
      "funtion1 called!\n",
      "140275418663696\n",
      "function2 called!\n",
      "140275418663696\n",
      "function2 called!\n",
      "140275418663696\n"
     ]
    }
   ],
   "source": [
    "# self의 이해\n",
    "class SelfTest():\n",
    "    def function1():\n",
    "        print('funtion1 called!')\n",
    "    def function2(self):\n",
    "        print(id(self))\n",
    "        print('function2 called!')\n",
    "        \n",
    "self_test = SelfTest()\n",
    "\n",
    "# 클래스 메소드 (self 없이 클래스 내부에서 적어준 함수)\n",
    "# self_test.function1() // error가 난다.\n",
    "\n",
    "# 클래스 메소드 호출 방법\n",
    "SelfTest.function1()\n",
    "\n",
    "# 인스턴스 메소드 호출 방법\n",
    "self_test.function2()\n",
    "SelfTest.function2(self_test)\n",
    "\n",
    "print(id(self_test))"
   ]
  },
  {
   "cell_type": "code",
   "execution_count": 42,
   "metadata": {},
   "outputs": [],
   "source": [
    "# 클래스 변수, 인스턴스 변수\n",
    "class WareHouse:\n",
    "    # 클래스 변수, self가 없다. 모두가 하나를 공유한다.\n",
    "    stock_num = 0\n",
    "    def __init__(self, name):\n",
    "        self.name = name\n",
    "        WareHouse.stock_num += 1\n",
    "    def __del__(self):\n",
    "        WareHouse.stock_num -= 1"
   ]
  },
  {
   "cell_type": "code",
   "execution_count": 43,
   "metadata": {},
   "outputs": [],
   "source": [
    "user1 = WareHouse('Kim')\n",
    "user2 = WareHouse('Park')\n",
    "user3 = WareHouse('Lee')"
   ]
  },
  {
   "cell_type": "code",
   "execution_count": 44,
   "metadata": {},
   "outputs": [
    {
     "name": "stdout",
     "output_type": "stream",
     "text": [
      "{'name': 'Kim'}\n",
      "{'name': 'Park'}\n",
      "{'name': 'Lee'}\n"
     ]
    }
   ],
   "source": [
    "print(user1.__dict__)\n",
    "print(user2.__dict__)\n",
    "print(user3.__dict__)"
   ]
  },
  {
   "cell_type": "code",
   "execution_count": 46,
   "metadata": {},
   "outputs": [
    {
     "data": {
      "text/plain": [
       "3"
      ]
     },
     "execution_count": 46,
     "metadata": {},
     "output_type": "execute_result"
    }
   ],
   "source": [
    "WareHouse.stock_num"
   ]
  },
  {
   "cell_type": "code",
   "execution_count": 47,
   "metadata": {},
   "outputs": [
    {
     "data": {
      "text/plain": [
       "mappingproxy({'__module__': '__main__',\n",
       "              'stock_num': 3,\n",
       "              '__init__': <function __main__.WareHouse.__init__(self, name)>,\n",
       "              '__del__': <function __main__.WareHouse.__del__(self)>,\n",
       "              '__dict__': <attribute '__dict__' of 'WareHouse' objects>,\n",
       "              '__weakref__': <attribute '__weakref__' of 'WareHouse' objects>,\n",
       "              '__doc__': None})"
      ]
     },
     "execution_count": 47,
     "metadata": {},
     "output_type": "execute_result"
    }
   ],
   "source": [
    "WareHouse.__dict__ # 클래스 네임스페이스, 클래스 변수(공유)"
   ]
  },
  {
   "cell_type": "code",
   "execution_count": 48,
   "metadata": {},
   "outputs": [
    {
     "name": "stdout",
     "output_type": "stream",
     "text": [
      "3\n"
     ]
    }
   ],
   "source": [
    "# 자신의 네임스페이스에 없으면 클래스 네임스페이스에 가서 찾는다.\n",
    "print(user1.stock_num)"
   ]
  },
  {
   "cell_type": "code",
   "execution_count": 49,
   "metadata": {},
   "outputs": [],
   "source": [
    "del user1"
   ]
  },
  {
   "cell_type": "code",
   "execution_count": 51,
   "metadata": {},
   "outputs": [
    {
     "name": "stdout",
     "output_type": "stream",
     "text": [
      "2\n"
     ]
    }
   ],
   "source": [
    "print(user2.stock_num)"
   ]
  },
  {
   "cell_type": "markdown",
   "metadata": {},
   "source": [
    "### 클래스 상속, 다중 상속\n",
    "- 클래스 상속\n",
    "- 클래스 다중 상속"
   ]
  },
  {
   "cell_type": "code",
   "execution_count": 63,
   "metadata": {},
   "outputs": [],
   "source": [
    "# 상속 기본\n",
    "# 슈퍼클래스(부모) 및 서브클래스(자식) -> 모든 속성, 메소드 사용 가능\n",
    "\n",
    "class Car:\n",
    "# Parent Class\n",
    "    def __init__(self, tp, color):\n",
    "        self.type = tp\n",
    "        self.color = color\n",
    "    \n",
    "    def show(self):\n",
    "        return 'Car Class \"Show Method!\"'"
   ]
  },
  {
   "cell_type": "code",
   "execution_count": 64,
   "metadata": {},
   "outputs": [],
   "source": [
    "class BmwCar(Car):\n",
    "# sub Class\n",
    "    def __init__(self, car_name, tp, color):\n",
    "        super().__init__(tp, color)\n",
    "        self.car_name = car_name\n",
    "        \n",
    "    def show_model(self) -> None:\n",
    "        return 'Your Car Name: %s' % self.car_name"
   ]
  },
  {
   "cell_type": "code",
   "execution_count": 78,
   "metadata": {},
   "outputs": [],
   "source": [
    "class BenzCar(Car):\n",
    "# sub Class\n",
    "    def __init__(self, car_name, tp, color):\n",
    "        super().__init__(tp, color)\n",
    "        self.car_name = car_name\n",
    "        \n",
    "    def show_model(self) -> None:\n",
    "        return 'Your Car Name: %s' % self.car_name\n",
    "    \n",
    "    def show(self):\n",
    "        print(super().show())\n",
    "        return 'Car Info : %s %s %s' % (self.car_name, self.type, self.color)"
   ]
  },
  {
   "cell_type": "code",
   "execution_count": 79,
   "metadata": {},
   "outputs": [
    {
     "name": "stdout",
     "output_type": "stream",
     "text": [
      "red\n",
      "sedan\n",
      "520d\n",
      "Car Class \"Show Method!\"\n",
      "Your Car Name: 520d\n",
      "{'type': 'sedan', 'color': 'red', 'car_name': '520d'}\n"
     ]
    }
   ],
   "source": [
    "# 일반 사용\n",
    "\n",
    "model1 = BmwCar('520d', 'sedan', 'red')\n",
    "print(model1.color) #super\n",
    "print(model1.type) #super\n",
    "print(model1.car_name) #sub\n",
    "print(model1.show()) #super\n",
    "print(model1.show_model()) #sub\n",
    "print(model1.__dict__)"
   ]
  },
  {
   "cell_type": "code",
   "execution_count": 80,
   "metadata": {},
   "outputs": [
    {
     "name": "stdout",
     "output_type": "stream",
     "text": [
      "Car Info : 220d sub black\n"
     ]
    }
   ],
   "source": [
    "# Method Overriding(오버라이딩)\n",
    "\n",
    "model2 = BenzCar('220d', 'sub', 'black')\n",
    "print(model2.show())"
   ]
  },
  {
   "cell_type": "code",
   "execution_count": 81,
   "metadata": {},
   "outputs": [
    {
     "name": "stdout",
     "output_type": "stream",
     "text": [
      "Car Info : 350s sedan red\n"
     ]
    }
   ],
   "source": [
    "# Parent Method call\n",
    "model3 = BenzCar('350s', 'sedan', 'red')\n",
    "print(model3.show())"
   ]
  },
  {
   "cell_type": "code",
   "execution_count": 84,
   "metadata": {},
   "outputs": [
    {
     "name": "stdout",
     "output_type": "stream",
     "text": [
      "[<class '__main__.BenzCar'>, <class '__main__.Car'>, <class 'object'>]\n",
      "[<class '__main__.BmwCar'>, <class '__main__.Car'>, <class 'object'>]\n"
     ]
    }
   ],
   "source": [
    "# INheritance Info (상속정보)\n",
    "# 상속 관계가 나타남 // mro()\n",
    "# object class가 모든 클래스의 부모다.\n",
    "print(BenzCar.mro())\n",
    "print(BmwCar.mro())"
   ]
  },
  {
   "cell_type": "code",
   "execution_count": 87,
   "metadata": {},
   "outputs": [
    {
     "name": "stdout",
     "output_type": "stream",
     "text": [
      "[<class '__main__.M'>, <class '__main__.B'>, <class '__main__.A'>, <class '__main__.X'>, <class '__main__.Y'>, <class '__main__.Z'>, <class 'object'>]\n"
     ]
    }
   ],
   "source": [
    "# 다중 상속\n",
    "class X():\n",
    "    pass\n",
    "\n",
    "class Y():\n",
    "    pass\n",
    "\n",
    "class Z():\n",
    "    pass\n",
    "\n",
    "class A(X,Y):\n",
    "    pass\n",
    "\n",
    "class B(Y,Z):\n",
    "    pass\n",
    "\n",
    "class M(B, A, Z):\n",
    "    pass\n",
    "\n",
    "print(M.mro())\n",
    "\n",
    "# 단, 너무나 복잡한 다중 상속은 가독성이 떨어진다."
   ]
  },
  {
   "cell_type": "code",
   "execution_count": 6,
   "metadata": {},
   "outputs": [],
   "source": [
    "# 크롤링 관련 클래스 실습 (인강 별개 오프라인 강의 내용)"
   ]
  },
  {
   "cell_type": "code",
   "execution_count": null,
   "metadata": {},
   "outputs": [],
   "source": [
    "import re\n",
    "import requests\n",
    "from bs4 import BeautifulSoup\n",
    "\n",
    "class Webtoon:\n",
    "    # 공통적으로 사용할 변수는 클래스변수로 선언한다.\n",
    "    URL_EPISODE_LIST = 'https://comic.naver.com/webtoon/list.nhn?titleId={id}'\n",
    "    URL_WEBTOON_LIST = 'https://comic.naver.com/webtoon/weekday.nhn'\n",
    "    WEBTOON_LIST_HTML = None\n",
    "    \n",
    "    def __init__(self, id, title, url_thumbnail):\n",
    "        # 하나의 웹툰이 가질 수 있는 속성들\n",
    "        # 객체 초기화 메서드, 초기화 시 주어진 매개변수들을 인스턴스의 속성으로 지정한다.\n",
    "        self.id = id\n",
    "        self.url_thumbnail = url_thumbnail\n",
    "        self.title = title\n",
    "        \n",
    "        self.author = None\n",
    "        self.description = None\n",
    "        self.genres = None\n",
    "        self.age = None\n",
    "    \n",
    "    def __repr__(self):\n",
    "        return f'Webtoon({self.title}, {self.id})'\n",
    "    \n",
    "    def get_detail_info(self):\n",
    "        # 자신의 author, description, genres, age값을 채운다.\n",
    "        url = self.link\n",
    "        response = requests.get(url)\n",
    "        html = response.text\n",
    "        soup = BeautifulSoup(html)\n",
    "        \n",
    "        div_comicinfo = soup.select_one('div.comicinfo')\n",
    "        div_detail = div_comicinfo.select_one('div.detail')\n",
    "\n",
    "        title = div_detail.select_one('h2').contents[0].strip()\n",
    "        author = div_detail.select_one('span.wrt_nm').get_text(strip=True)\n",
    "        description = div_detail.select_one('p').get_text('\\n', strip=True)\n",
    "\n",
    "        # genre, age\n",
    "        div_detail_info = div_detail.select_one('p.detail_info')\n",
    "        genre = div_detail_info.select_one('span.genre').get_text(strip=True)\n",
    "        age = div_detail_info.select_one('span.age').get_text(strip=True)\n",
    "    \n",
    "        self.author = author\n",
    "        self.description = description\n",
    "        self.genre = genre\n",
    "        self.age = age\n",
    "    \n",
    "    def show_info(self):\n",
    "        # 자신의 id, url_thumbnail, title, author, description, genres, age 정보를 출력\n",
    "        # 만약 하나라도 없는 정보가 있다면 get_detail_info()를 실행해서 내용을 채운 뒤 아래 내용을 출력하도록 작석\n",
    "        if not (self.author and self.description and self.genres and self.age):\n",
    "            self.get_detail_info()\n",
    "        \n",
    "        print(self.author)\n",
    "        print(self.description)\n",
    "        print(self.genres)\n",
    "        print(self.age)\n",
    "    \n",
    "    @classmethod\n",
    "    def search(cls, keyword):\n",
    "    # keyword가 제목에 포함되는 웹툰 목록을 출력\n",
    "    # 출력한 목록에서 특정 웹툰을 선택하면, 해당 웹툰의 정보를 가지고 Webtoon인스턴스를 생성하여 반환\n",
    "    \n",
    "    # requests.get으로 HTTP 요청을 보내는 대신\n",
    "    # Webtoon클래스에서 1번 요청했으면, 그 결과는 (HTML text)를 클래스가 가지고 있기\n",
    "    \n",
    "        if not cls.WEBTOON_LIST_HTML:\n",
    "            response = requests.get(cls.URL_WEBTOON_LIST)\n",
    "            cls.WEBTOON_LIST_HTML = response.text\n",
    "        \n",
    "        soup = BeautifulSoup(cls.WEBTOON_LIST_HTML)\n",
    "            \n",
    "    # 클래스 변수는 WEBTOON_LIST_HTML을 사용\n",
    "    # ex) Webtoon.search('유미') <- HTTP 요청 및 클래스 변수로 html 텍스트 저장\n",
    "    #     Webtoon.search('덴마') <- 요청하지 않고, 클래스가 가지고 있는 HTML 텍스트 사용\n",
    "    \n",
    "        a_list = soup.select('a.title[title*=\"{}\"]'.format(keyword))\n",
    "    \n",
    "        results = []\n",
    "        for a in a_list:\n",
    "            href = a['href']\n",
    "            m = re.search(r'titleId=(\\d+)', href)\n",
    "            title_id = m.group(1)\n",
    "            thumbnail = a.parent.select_one('img')['src']\n",
    "            title = a.get_text(strip=True)\n",
    "            cur_info = {\n",
    "                'title': title,\n",
    "                'title_id': title_id,\n",
    "                'link': href,\n",
    "                'thumbnail': thumbnail,\n",
    "            }\n",
    "            results.append(cur_info)\n",
    "\n",
    "        print('검색 결과')\n",
    "        for index, result in enumerate(results, start=1):\n",
    "            print(f'{index}: {result[\"title\"]}')\n",
    "            \n",
    "        choice = int(input('> 선택: '))\n",
    "        selected = results[choice-1]\n",
    "        instance = cls(\n",
    "            id = selected['title_id'],\n",
    "            title = selected['title'],\n",
    "            url_thumbnail = selected['thumbnail'],\n",
    "        )\n",
    "        return instance\n",
    "        \n",
    "    @property\n",
    "    def link(self):\n",
    "        return self.URL_EPISODE_LIST.format(id = self.id)\n",
    "        \n",
    "#     def get_episode_list(self):\n",
    "#         pass\n",
    "        # 하나의 웹툰이 어떤 일을 한다.\n",
    "        # 이 웹툰이 가진 에피소드 목록 리턴\n",
    "        \n",
    "class Episode:\n",
    "    def __init__(self, title, description, author, genre, age):\n",
    "        self.title = title\n",
    "        self.description = description\n",
    "        self.author = author\n",
    "        self.genre = genre\n",
    "        self.age = age\n",
    "    \n",
    "    def print_episode_list(self):\n",
    "        pass"
   ]
  },
  {
   "cell_type": "code",
   "execution_count": 115,
   "metadata": {},
   "outputs": [
    {
     "data": {
      "text/plain": [
       "651673"
      ]
     },
     "execution_count": 115,
     "metadata": {},
     "output_type": "execute_result"
    }
   ],
   "source": [
    "yumi = Webtoon(id = 651673, title = '유미의 세포들', url_thumbnail = 'https://shared-comic.pstatic.net/thumb/webtoon/651673/thumbnail/thumbnail_IMAG10_659b9446-0940-494a-bb5f-5893290a84d0.jpg')\n",
    "yumi\n",
    "yumi.id"
   ]
  },
  {
   "cell_type": "code",
   "execution_count": null,
   "metadata": {},
   "outputs": [
    {
     "name": "stdout",
     "output_type": "stream",
     "text": [
      "hi None\n",
      "검색 결과\n",
      "1: 유일무이 로맨스\n",
      "2: 윌유메리미\n",
      "3: 유미의 세포들\n",
      "4: 유미의 세포들\n",
      "5: 윌유메리미\n",
      "6: 공유몽\n",
      "7: 유령극단\n"
     ]
    }
   ],
   "source": [
    "print('hi', Webtoon.WEBTOON_LIST_HTML)\n",
    "\n",
    "Webtoon.search('유')"
   ]
  },
  {
   "cell_type": "code",
   "execution_count": null,
   "metadata": {},
   "outputs": [],
   "source": [
    "yumi.get_detail_info()\n",
    "yumi.show_info()"
   ]
  },
  {
   "cell_type": "code",
   "execution_count": 3,
   "metadata": {},
   "outputs": [],
   "source": [
    "# 강사님 최종 코드 복습\n",
    "\n",
    "import re\n",
    "\n",
    "import requests\n",
    "from bs4 import BeautifulSoup\n",
    "\n",
    "from dataclasses import dataclass\n",
    "\n",
    "@dataclass\n",
    "class Webtoon:\n",
    "    # 이 클래스에서 공통적으로 사용할 변수는 클래스변수로 선언\n",
    "    \n",
    "    URL_WEBTOON_LIST = 'https://comic.naver.com/webtoon/weekday.nhn'\n",
    "    URL_EPISODE_LIST = 'https://comic.naver.com/webtoon/list.nhn?titleId={id}'\n",
    "    WEBTOON_LIST_HTML = None\n",
    "    \n",
    "    id: str\n",
    "    url_thumbnail: str\n",
    "    title: str\n",
    "    \n",
    "    def __post_init__(self):\n",
    "        self.author = None\n",
    "        self.description = None\n",
    "        self.genres = None\n",
    "        self.age = None\n",
    "    \n",
    "    def __repr__(self):\n",
    "        # 객체의 표현값\n",
    "        return f'Webtoon({self.title}, {self.id})'\n",
    "    \n",
    "    def get_detail_info(self):\n",
    "        # 자신의 author, description, genres, age값을 채운다\n",
    "        url = self.link\n",
    "        response = requests.get(url)\n",
    "        html = response.text\n",
    "        soup = BeautifulSoup(html)\n",
    "\n",
    "        div_comicinfo = soup.select_one('div.comicinfo')\n",
    "        div_detail = div_comicinfo.select_one('div.detail')\n",
    "\n",
    "        title = div_detail.select_one('h2').contents[0].strip()\n",
    "        author = div_detail.select_one('span.wrt_nm').get_text(strip=True)\n",
    "        description = div_detail.select_one('p').get_text('\\n', strip=True)\n",
    "\n",
    "        # genre, age\n",
    "        div_detail_info = div_detail.select_one('p.detail_info')\n",
    "        genre = div_detail_info.select_one('span.genre').get_text(strip=True)\n",
    "        age = div_detail_info.select_one('span.age').get_text(strip=True)\n",
    "        \n",
    "        self.description = description\n",
    "        self.author = author\n",
    "        self.genres = [g.strip() for g in genre.split(',')]\n",
    "        self.age = age\n",
    "    \n",
    "    def show_info(self):\n",
    "        # 만약, author, description, genres, age중 하나라도 없는 정보가 있다면\n",
    "        # get_detail_info()를 실행해서 내용을 채운 뒤 아래 내용들을 출력하도록 작성\n",
    "        if not (self.author and self.description and self.genres and self.age):\n",
    "            self.get_detail_info()\n",
    "            \n",
    "        print(self.title)\n",
    "        print(f' 작가: {self.author}')\n",
    "        print(f' 설명: {self.description}')\n",
    "        print(f' 장르: {self.genres}')\n",
    "        print(f' 연령: {self.age}')\n",
    "        \n",
    "    @classmethod\n",
    "    def search(cls, keyword):\n",
    "        # keyword가 제목에 포함되는 웹툰 목록을 출력\n",
    "        # 출력한 목록에서 특정 웹툰을 선택하면, 해당 웹툰의 정보를 가지고 Webtoon인스턴스를 생성하여 반환\n",
    "        \n",
    "        # requests.get으로 HTTP요청을 보내는 대신\n",
    "        # Webtoon클래스에서 1번 요청했으면, 그 결과 (HTML text)를 클래스가 가지고 있기\n",
    "        \n",
    "        #  클래스변수는 WEBTOON_LIST_HTML을 사용\n",
    "        # ex) Webtoon.search('유미')  <- HTTP요청 및 클래스 변수로 HTML텍스트를 저장\n",
    "        #     Webtoon.search('덴마')  <- 요청하지 않고, 클래스가 가지고 있는 HTML텍스트를 사용\n",
    "        if not cls.WEBTOON_LIST_HTML:\n",
    "            print('WEBTOON_LIST_HTML이 비었으므로 HTTP요청!')\n",
    "            response = requests.get(cls.URL_WEBTOON_LIST)\n",
    "            cls.WEBTOON_LIST_HTML = response.text\n",
    "            \n",
    "        soup = BeautifulSoup(cls.WEBTOON_LIST_HTML)\n",
    "        css_selector = 'a.title[title*=\"{}\"]'.format(keyword)\n",
    "        a_list = soup.select(css_selector)\n",
    "\n",
    "        results = []\n",
    "        for a in a_list:\n",
    "            href = a['href']\n",
    "            m = re.search(r'titleId=(\\d+)', href)\n",
    "            title_id = m.group(1)\n",
    "            thumbnail = a.parent.select_one('img')['src']\n",
    "            title = a.get_text(strip=True)\n",
    "            cur_info = {\n",
    "                'title': title,\n",
    "                'title_id': title_id,\n",
    "                'link': href,\n",
    "                'thumbnail': thumbnail,\n",
    "            }\n",
    "            results.append(cur_info)\n",
    "        \n",
    "        print('# 검색결과')\n",
    "        for index, result in enumerate(results, start=1):\n",
    "            print(f'{index}: {result[\"title\"]}')\n",
    "        \n",
    "        choice = int(input('> 선택: '))\n",
    "        selected = results[choice - 1]\n",
    "        # 이 클래스의 생성자를 호출, 그 결과를 리턴\n",
    "        # instance = Webtoon(id=..., title=..., url_thumbnail=...)\n",
    "        instance = cls(\n",
    "            id=selected['title_id'],\n",
    "            title=selected['title'],\n",
    "            url_thumbnail=selected['thumbnail'],\n",
    "        )\n",
    "        return instance\n",
    "        \n",
    "    @property\n",
    "    def link(self):\n",
    "        return self.URL_EPISODE_LIST.format(id=self.id)\n",
    "        \n",
    "    def get_episode_list(self):\n",
    "        # 이 웹툰이 가진 에피소드 목록을 리턴해준다\n",
    "        pass"
   ]
  },
  {
   "cell_type": "code",
   "execution_count": 4,
   "metadata": {},
   "outputs": [
    {
     "name": "stdout",
     "output_type": "stream",
     "text": [
      "WEBTOON_LIST_HTML이 비었으므로 HTTP요청!\n",
      "# 검색결과\n",
      "1: 유일무이 로맨스\n",
      "2: 윌유메리미\n",
      "3: 유미의 세포들\n",
      "4: 유미의 세포들\n",
      "5: 윌유메리미\n",
      "6: 공유몽\n",
      "7: 유령극단\n",
      "> 선택: 1\n",
      "유일무이 로맨스\n",
      " 작가: 두부\n",
      " 설명: 평범한 취준생 공유일의 일상에\n",
      "인기절정 탑배우 탁무이와 아이돌 류민이 침범해오기 시작했다!\n",
      " 장르: ['스토리', '일상', '드라마', '로맨스']\n",
      " 연령: 전체연령가\n"
     ]
    }
   ],
   "source": [
    "yumi = Webtoon.search('유')\n",
    "yumi.show_info()"
   ]
  },
  {
   "cell_type": "code",
   "execution_count": 5,
   "metadata": {},
   "outputs": [
    {
     "name": "stdout",
     "output_type": "stream",
     "text": [
      "유일무이 로맨스\n",
      " 작가: 두부\n",
      " 설명: 평범한 취준생 공유일의 일상에\n",
      "인기절정 탑배우 탁무이와 아이돌 류민이 침범해오기 시작했다!\n",
      " 장르: ['스토리', '일상', '드라마', '로맨스']\n",
      " 연령: 전체연령가\n"
     ]
    }
   ],
   "source": [
    "yumi.get_detail_info()\n",
    "yumi.show_info()"
   ]
  },
  {
   "cell_type": "markdown",
   "metadata": {},
   "source": [
    "### 데코레이터란?\n",
    "- 데코레이터란 @를 사용하여 특별한 메소드로 만들어 주는 것이다.  \n",
    "(+. `__a__`와 같이 `__`가 붙는 애들을 매직 메서드라고 부른다.)\n",
    "\n",
    "### @dataclass \n",
    "\n",
    "- @dataclass : 3.7에서 추가됨 __int__ 등을 자동으로 정의  \n",
    "\n",
    "- 사용이유 알아보기  \n",
    "@dataclass 사용 안할 시, 다음과 같이 코드를 적어주어야한다.\n",
    "\n",
    "    def __init__(self,a):\n",
    "        self.a = a\n",
    "        self.b = b\n",
    "        self.c = c\n",
    "        \n",
    "@dataclass 사용 시에는 위 코드와 동일한 코드를 다음과 같이 적어줄 수 있다.  \n",
    "\n",
    "class A :\n",
    "    a : int\n",
    "    b : int\n",
    "    c : int\n",
    "    \n",
    "### `__post_init__` 알아보기\n",
    "- `__post_init__`은 init을 하고나서 초기화할게 더 있다면 사용해 적어준다.  \n",
    "(`__post_init__` : 후처리 초기화와 같은 역할)\n",
    "\n",
    "   def __post_init__(self):\n",
    "        self.e = self.a + self.b\n",
    "\n",
    "### @classmethod / @staticmethod\n",
    "- 두 함수는 둘다 정적 메소드를 만들기 위한 함수이다.\n",
    "- 단, cls라는 클래스를 명시하려면 @classmethod를 사용한다. @classmethod를 사용하면 첫번째 매개변수는 자동으로 cls가 된다.\n",
    "\n",
    "\n",
    "### `__repr__` \n",
    "- repr 함수는 어떤 객체의 ‘출력될 수 있는 표현’(printable representation)을 문자열의 형태로 반환한다.\n",
    "\n",
    "+. `a.__repr__()`을 적었을 때, `a.__str__()`이 정의되지 않았을 경우 `a.__repr__()`을 가져온다."
   ]
  },
  {
   "cell_type": "code",
   "execution_count": 13,
   "metadata": {},
   "outputs": [
    {
     "name": "stdout",
     "output_type": "stream",
     "text": [
      "<class '__main__.A'>\n",
      "<class 'type'>\n"
     ]
    }
   ],
   "source": [
    "class A:\n",
    "    def __str__(self):\n",
    "        return 'A클래스의 인스턴스'\n",
    "\n",
    "a = A()\n",
    "a\n",
    "\n",
    "print(type(a))\n",
    "print(type(A))"
   ]
  },
  {
   "cell_type": "code",
   "execution_count": 14,
   "metadata": {},
   "outputs": [
    {
     "name": "stdout",
     "output_type": "stream",
     "text": [
      "<class 'str'>\n"
     ]
    }
   ],
   "source": [
    "b = 'abc'\n",
    "print(type(b))"
   ]
  },
  {
   "cell_type": "code",
   "execution_count": 15,
   "metadata": {},
   "outputs": [
    {
     "name": "stdout",
     "output_type": "stream",
     "text": [
      "<class 'function'>\n"
     ]
    }
   ],
   "source": [
    "def fun():\n",
    "    pass\n",
    "\n",
    "print(type(fun))"
   ]
  },
  {
   "cell_type": "code",
   "execution_count": 18,
   "metadata": {},
   "outputs": [
    {
     "name": "stdout",
     "output_type": "stream",
     "text": [
      "b.search : A 클래스의 인스턴스\n",
      "<class '__main__.B'>\n",
      "<class '__main__.A'>\n",
      "<class '__main__.A'>\n"
     ]
    }
   ],
   "source": [
    "class B:\n",
    "    def __str__(self):\n",
    "        return 'A 클래스의 인스턴스'\n",
    "        \n",
    "    def search (cls):\n",
    "        print('b.search :', cls)\n",
    "        print(type(cls))\n",
    "        \n",
    "b = B()\n",
    "b.search()\n",
    "print(type(a))\n",
    "print(A)"
   ]
  },
  {
   "cell_type": "code",
   "execution_count": null,
   "metadata": {},
   "outputs": [],
   "source": []
  }
 ],
 "metadata": {
  "kernelspec": {
   "display_name": "Python 3",
   "language": "python",
   "name": "python3"
  },
  "language_info": {
   "codemirror_mode": {
    "name": "ipython",
    "version": 3
   },
   "file_extension": ".py",
   "mimetype": "text/x-python",
   "name": "python",
   "nbconvert_exporter": "python",
   "pygments_lexer": "ipython3",
   "version": "3.7.5"
  }
 },
 "nbformat": 4,
 "nbformat_minor": 2
}
