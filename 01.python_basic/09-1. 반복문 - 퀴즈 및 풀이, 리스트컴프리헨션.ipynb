{
 "cells": [
  {
   "cell_type": "code",
   "execution_count": 1,
   "metadata": {},
   "outputs": [],
   "source": [
    "# Section05-3\n",
    "# 파이썬 흐름제어(제어문)\n",
    "# 제어문 관련 퀴즈(정답은 영상)"
   ]
  },
  {
   "cell_type": "code",
   "execution_count": 2,
   "metadata": {},
   "outputs": [
    {
     "name": "stdout",
     "output_type": "stream",
     "text": [
      "사과\n"
     ]
    }
   ],
   "source": [
    "# 1 ~ 5 문제 if 구문 사용\n",
    "# 1. 아래 딕셔너리에서 '가을'에 해당하는 과일을 출력하세요.\n",
    "fruit = {\"봄\": \"딸기\", \"여름\": \"토마토\", \"가을\": \"사과\"}\n",
    "\n",
    "for key, value in fruit.items():\n",
    "    if (key == '가을'):\n",
    "        print(value)"
   ]
  },
  {
   "cell_type": "code",
   "execution_count": 3,
   "metadata": {},
   "outputs": [
    {
     "name": "stdout",
     "output_type": "stream",
     "text": [
      "포함됨\n"
     ]
    }
   ],
   "source": [
    "# 2. 아래 딕셔너리에서 '사과'가 포함되었는지 확인하세요.\n",
    "\n",
    "fruit = {\"봄\": \"딸기\", \"여름\": \"토마토\", \"가을\": \"사과\"}\n",
    "\n",
    "for value in fruit.values():\n",
    "    if(value == '사과'):\n",
    "        print('포함됨')"
   ]
  },
  {
   "cell_type": "code",
   "execution_count": 4,
   "metadata": {},
   "outputs": [
    {
     "name": "stdout",
     "output_type": "stream",
     "text": [
      "E학점\n"
     ]
    }
   ],
   "source": [
    "# 3. 다음 점수 구간에 맞게 학점을 출력하세요.\n",
    "# 81 ~ 100 : A학점\n",
    "# 61 ~ 80 :  B학점\n",
    "# 41 ~ 60 :  C학점\n",
    "# 21 ~ 40 :  D학점\n",
    "#  0 ~ 20 :  E학점\n",
    "\n",
    "score = 0\n",
    "\n",
    "if (score > 80):\n",
    "    print('A학점')\n",
    "elif (score > 60):\n",
    "    print('B학점')\n",
    "elif (score > 40):\n",
    "    print('C학점')\n",
    "elif (score > 20):\n",
    "    print('D학점')\n",
    "elif (score >= 0):\n",
    "    print('E학점')\n",
    "else:\n",
    "    print('score 입력 오류')"
   ]
  },
  {
   "cell_type": "code",
   "execution_count": 5,
   "metadata": {},
   "outputs": [
    {
     "name": "stdout",
     "output_type": "stream",
     "text": [
      "18\n"
     ]
    }
   ],
   "source": [
    "# 4. 다음 세 개의 숫자 중 가장 큰수를 출력하세요.(if문 사용) : 12, 6, 18\n",
    "\n",
    "a = 12\n",
    "b = 6\n",
    "c = 18\n",
    "best = 0\n",
    "\n",
    "if (a > best):\n",
    "    best = a\n",
    "    \n",
    "if (b > best):\n",
    "    best = b\n",
    "    \n",
    "if (c > best):\n",
    "    best = c\n",
    "    \n",
    "print(best)"
   ]
  },
  {
   "cell_type": "code",
   "execution_count": 14,
   "metadata": {},
   "outputs": [
    {
     "name": "stdout",
     "output_type": "stream",
     "text": [
      "4\n",
      "여자\n"
     ]
    }
   ],
   "source": [
    "# 5. 다음 주민등록 번호에서 7자리 숫자를 사용해서 남자, 여자를 판별하세요. (1,3 : 남자, 2,4 : 여자)\n",
    "\n",
    "s = '891022-4473837'\n",
    "\n",
    "gender = s[7:8]\n",
    "print(gender)\n",
    "\n",
    "if(gender == '1' or gender == '3'):\n",
    "    print('남자')\n",
    "elif(gender == '2' or gender == '4'):\n",
    "    print('여자')"
   ]
  },
  {
   "cell_type": "code",
   "execution_count": 44,
   "metadata": {},
   "outputs": [
    {
     "name": "stdout",
     "output_type": "stream",
     "text": [
      "갑을병"
     ]
    },
    {
     "data": {
      "text/plain": [
       "['갑', '을', '병']"
      ]
     },
     "execution_count": 44,
     "metadata": {},
     "output_type": "execute_result"
    }
   ],
   "source": [
    "# 6 ~ 10 반복문 사용(while 또는 for)\n",
    "\n",
    "# 6. 다음 리스트 중에서 '정' 글자를 제외하고 출력하세요.\n",
    "q3 = [\"갑\", \"을\", \"병\", \"정\"]\n",
    "\n",
    "index = 0\n",
    "\n",
    "while(index < 4):\n",
    "    if (q3[index] == '정'):\n",
    "        break\n",
    "    \n",
    "    print(q3[index], end='')\n",
    "    index += 1\n",
    "    \n",
    "# 리스트컴프리헨션\n",
    "sample = [x for x in q3 if x != '정']\n",
    "sample"
   ]
  },
  {
   "cell_type": "code",
   "execution_count": 38,
   "metadata": {},
   "outputs": [
    {
     "name": "stdout",
     "output_type": "stream",
     "text": [
      "[1, 3, 5, 7, 9, 11, 13, 15, 17, 19, 21, 23, 25, 27, 29, 31, 33, 35, 37, 39, 41, 43, 45, 47, 49, 51, 53, 55, 57, 59, 61, 63, 65, 67, 69, 71, 73, 75, 77, 79, 81, 83, 85, 87, 89, 91, 93, 95, 97, 99]\n",
      "[1, 3, 5, 7, 9, 11, 13, 15, 17, 19, 21, 23, 25, 27, 29, 31, 33, 35, 37, 39, 41, 43, 45, 47, 49, 51, 53, 55, 57, 59, 61, 63, 65, 67, 69, 71, 73, 75, 77, 79, 81, 83, 85, 87, 89, 91, 93, 95, 97, 99]\n"
     ]
    }
   ],
   "source": [
    "# 7. 1부터 100까지 자연수 중 '홀수'만 한 라인으로 출력 하세요.\n",
    "\n",
    "sample = []\n",
    "\n",
    "for num in range(1,101,2):\n",
    "    sample.append(num)\n",
    "    \n",
    "print(sample)\n",
    "\n",
    "# 리스트 컴프리헨션\n",
    "\n",
    "print([x for x in range(1,101,2)])"
   ]
  },
  {
   "cell_type": "code",
   "execution_count": 36,
   "metadata": {},
   "outputs": [
    {
     "name": "stdout",
     "output_type": "stream",
     "text": [
      "study\n",
      "python\n",
      "anaconda\n"
     ]
    }
   ],
   "source": [
    "# 8. 아래 리스트 항목 중에서 5글자 이상의 단어만 출력하세요.\n",
    "q4 = [\"nice\", \"study\", \"python\", \"anaconda\", \"!\"]\n",
    "\n",
    "for word in q4:\n",
    "    if len(word) >= 5:\n",
    "        print(word)"
   ]
  },
  {
   "cell_type": "code",
   "execution_count": 28,
   "metadata": {},
   "outputs": [
    {
     "name": "stdout",
     "output_type": "stream",
     "text": [
      "b\n",
      "c\n",
      "e\n",
      "h\n"
     ]
    }
   ],
   "source": [
    "# 9. 아래 리스트 항목 중에서 소문자만 출력하세요.\n",
    "q5 = [\"A\", \"b\", \"c\", \"D\", \"e\", \"F\", \"G\", \"h\"]\n",
    "\n",
    "for alpa in q5:\n",
    "    if alpa.islower():\n",
    "        print(alpa)"
   ]
  },
  {
   "cell_type": "code",
   "execution_count": 29,
   "metadata": {},
   "outputs": [
    {
     "name": "stdout",
     "output_type": "stream",
     "text": [
      "a\n",
      "B\n",
      "C\n",
      "d\n",
      "E\n",
      "f\n",
      "g\n",
      "H\n"
     ]
    }
   ],
   "source": [
    "# 10. 아래 리스트 항목 중에서 소문자는 대문자로 대문자는 소문자로 출력하세요.\n",
    "q6 = [\"A\", \"b\", \"c\", \"D\", \"e\", \"F\", \"G\", \"h\"]\n",
    "\n",
    "for alpa in q6:\n",
    "    if alpa.islower():\n",
    "        print(alpa.upper())\n",
    "    elif alpa.isupper():\n",
    "        print(alpa.lower())"
   ]
  },
  {
   "cell_type": "code",
   "execution_count": 45,
   "metadata": {},
   "outputs": [],
   "source": [
    "# 리스트컴프리헨션\n",
    "# [append할 것 for sample in list if 조건]\n",
    "# 조건에 맞는 값만 list에 append됨"
   ]
  },
  {
   "cell_type": "code",
   "execution_count": null,
   "metadata": {},
   "outputs": [],
   "source": []
  }
 ],
 "metadata": {
  "kernelspec": {
   "display_name": "Python 3",
   "language": "python",
   "name": "python3"
  },
  "language_info": {
   "codemirror_mode": {
    "name": "ipython",
    "version": 3
   },
   "file_extension": ".py",
   "mimetype": "text/x-python",
   "name": "python",
   "nbconvert_exporter": "python",
   "pygments_lexer": "ipython3",
   "version": "3.7.5"
  }
 },
 "nbformat": 4,
 "nbformat_minor": 2
}
