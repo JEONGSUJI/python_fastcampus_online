{
 "cells": [
  {
   "cell_type": "markdown",
   "metadata": {},
   "source": [
    "### 모듈, 패키지\n",
    "\n",
    "- 패키지 설정\n",
    "    - 파일 하나하나의 단위를 모듈이라고 할 수 있다.\n",
    "    - 모듈을 구조적으로 관리하는 것을 패키지라고 한다.\n",
    "    \n",
    "- 모듈 사용 및 Alias 설정\n",
    "- 패키지 사용 장점"
   ]
  },
  {
   "cell_type": "code",
   "execution_count": 2,
   "metadata": {},
   "outputs": [],
   "source": [
    "# 상대 경로\n",
    "# .. : 부모 디렉토리\n",
    "# . : 현재 디렉토리"
   ]
  },
  {
   "cell_type": "code",
   "execution_count": null,
   "metadata": {},
   "outputs": [],
   "source": [
    "from pkg, fibonaci import Fibonaci\n",
    "\n",
    "Fibonaci.fib(300)"
   ]
  }
 ],
 "metadata": {
  "kernelspec": {
   "display_name": "Python 3",
   "language": "python",
   "name": "python3"
  },
  "language_info": {
   "codemirror_mode": {
    "name": "ipython",
    "version": 3
   },
   "file_extension": ".py",
   "mimetype": "text/x-python",
   "name": "python",
   "nbconvert_exporter": "python",
   "pygments_lexer": "ipython3",
   "version": "3.7.5"
  }
 },
 "nbformat": 4,
 "nbformat_minor": 2
}
