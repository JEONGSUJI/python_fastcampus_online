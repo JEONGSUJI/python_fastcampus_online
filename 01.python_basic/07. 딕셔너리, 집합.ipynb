{
 "cells": [
  {
   "cell_type": "markdown",
   "metadata": {},
   "source": [
    "- 딕셔너리 특징\n",
    "    - 순서가 없다.\n",
    "    - 중복도 없다.\n",
    "    - 수정 가능하다.\n",
    "    - 삭제 가능하다.\n",
    "    - 어떠한 데이터 값도 dictionary에 들어올 수 있다.\n",
    "    - Json과 형태가 비슷하다.\n",
    "    \n",
    "    \n",
    "- 딕셔너리 추가 \n",
    "    \n",
    "- 집합 특징\n",
    "\n",
    "- 집합 자료형 함수\n",
    "\n",
    "- 자료형 변환"
   ]
  },
  {
   "cell_type": "code",
   "execution_count": 2,
   "metadata": {},
   "outputs": [],
   "source": [
    "# 딕셔너리 선언\n",
    "a = {'name': 'Kim', 'Phone':'010-7777-7777', 'birth':901120}\n",
    "b = {0: 'Hello', 1: 'Hello Coding'}\n",
    "c = {'arr':[1,2,3,4]}"
   ]
  },
  {
   "cell_type": "code",
   "execution_count": 13,
   "metadata": {},
   "outputs": [
    {
     "name": "stdout",
     "output_type": "stream",
     "text": [
      "Kim\n",
      "Kim\n",
      "None\n"
     ]
    }
   ],
   "source": [
    "# 출력\n",
    "\n",
    "# key로 조회하기, 없는 key 입력 시 error가 나옴\n",
    "print(a['name'])\n",
    "\n",
    "# get()을 사용해서 조회하기, 없는 key 입력 시 None이 나옴\n",
    "print(a.get('name'))\n",
    "print(a.get('address'))"
   ]
  },
  {
   "cell_type": "code",
   "execution_count": 17,
   "metadata": {},
   "outputs": [
    {
     "name": "stdout",
     "output_type": "stream",
     "text": [
      "{'name': 'Kim', 'Phone': '010-7777-7777', 'birth': 901120, 'address': 'Seoul', 'rank': [1, 3, 4], 'rank2': (1, 5)}\n"
     ]
    }
   ],
   "source": [
    "# 추가\n",
    "\n",
    "a['address'] = 'Seoul'\n",
    "a['rank'] = [1, 3, 4]\n",
    "a['rank2'] = (1, 5)\n",
    "\n",
    "print(a)"
   ]
  },
  {
   "cell_type": "code",
   "execution_count": 30,
   "metadata": {},
   "outputs": [
    {
     "name": "stdout",
     "output_type": "stream",
     "text": [
      "dict_keys(['name', 'Phone', 'birth', 'address', 'rank', 'rank2'])\n",
      "name\n",
      "['Phone', 'birth']\n",
      "dict_items([('name', 'Kim'), ('Phone', '010-7777-7777'), ('birth', 901120), ('address', 'Seoul'), ('rank', [1, 3, 4]), ('rank2', (1, 5))])\n",
      "<class 'dict_items'>\n",
      "[('name', 'Kim'), ('Phone', '010-7777-7777'), ('birth', 901120), ('address', 'Seoul'), ('rank', [1, 3, 4]), ('rank2', (1, 5))]\n",
      "<class 'list'>\n"
     ]
    }
   ],
   "source": [
    "# keys, values, items\n",
    "print(a.keys())\n",
    "\n",
    "# print(a.keys())과 같은 상태에서는 print(a.keys()[1])과 같은 인덱스 접근이 불가능하다.\n",
    "# 해결하기 위해 list로 변경한 후 인덱스 연산을 수행해야한다. (형 변환이 필요하다.)\n",
    "print(list(a.keys())[0])\n",
    "\n",
    "temp = list(a.keys())\n",
    "print(temp[1:3])\n",
    "\n",
    "print(a.items())\n",
    "print(type(a.items()))\n",
    "\n",
    "# list 안에 tuple 형태로 반환됨\n",
    "print(list(a.items()))\n",
    "print(type(list(a.items())))"
   ]
  },
  {
   "cell_type": "code",
   "execution_count": 31,
   "metadata": {},
   "outputs": [
    {
     "name": "stdout",
     "output_type": "stream",
     "text": [
      "False\n"
     ]
    }
   ],
   "source": [
    "# in을 사용해서 해당 딕셔너리에 key가 있는지 확인할 수 있다.\n",
    "print(2 in b)"
   ]
  },
  {
   "cell_type": "markdown",
   "metadata": {},
   "source": [
    "### 집합(Sets)\n",
    "- 순서가 없다.\n",
    "- 중복이 없다."
   ]
  },
  {
   "cell_type": "code",
   "execution_count": 36,
   "metadata": {},
   "outputs": [
    {
     "name": "stdout",
     "output_type": "stream",
     "text": [
      "<class 'set'>\n",
      "{1, 4, 5, 6}\n"
     ]
    }
   ],
   "source": [
    "# 집합 선언\n",
    "a = set()\n",
    "b = set([1,2,3,4])\n",
    "c = set([1,4,5,6,6])\n",
    "\n",
    "print(type(a))\n",
    "print(c)"
   ]
  },
  {
   "cell_type": "code",
   "execution_count": 39,
   "metadata": {},
   "outputs": [
    {
     "name": "stdout",
     "output_type": "stream",
     "text": [
      "(1, 2, 3, 4)\n",
      "[1, 2, 3, 4]\n"
     ]
    }
   ],
   "source": [
    "t = tuple(b)\n",
    "print(t)\n",
    "print(list(t))"
   ]
  },
  {
   "cell_type": "code",
   "execution_count": 46,
   "metadata": {},
   "outputs": [
    {
     "name": "stdout",
     "output_type": "stream",
     "text": [
      "{4, 5, 6}\n",
      "{4, 5, 6}\n",
      "{1, 2, 3, 4, 5, 6, 7, 8, 9}\n",
      "{1, 2, 3, 4, 5, 6, 7, 8, 9}\n",
      "{1, 2, 3}\n",
      "{1, 2, 3}\n"
     ]
    }
   ],
   "source": [
    "s1 = set([1,2,3,4,5,6])\n",
    "s2 = set([4,5,6,7,8,9])\n",
    "\n",
    "# 교집합\n",
    "print(s1.intersection(s2))\n",
    "print(s1 & s2)\n",
    "\n",
    "# 합집합\n",
    "print(s1.union(s2))\n",
    "print(s1 | s2)\n",
    "\n",
    "# 차집합\n",
    "print(s1.difference(s2))\n",
    "print(s1 - s2)"
   ]
  },
  {
   "cell_type": "code",
   "execution_count": 51,
   "metadata": {},
   "outputs": [
    {
     "name": "stdout",
     "output_type": "stream",
     "text": [
      "{7, 8, 10, 15, 18}\n",
      "{7, 8, 10, 18}\n",
      "<class 'set'>\n"
     ]
    }
   ],
   "source": [
    "# 추가 & 제거\n",
    "s3 = set([7,8,10,15])\n",
    "\n",
    "s3.add(18)\n",
    "print(s3)\n",
    "\n",
    "s3.remove(15)\n",
    "print(s3)\n",
    "\n",
    "print(type(s3))"
   ]
  },
  {
   "cell_type": "code",
   "execution_count": null,
   "metadata": {},
   "outputs": [],
   "source": []
  }
 ],
 "metadata": {
  "kernelspec": {
   "display_name": "Python 3",
   "language": "python",
   "name": "python3"
  },
  "language_info": {
   "codemirror_mode": {
    "name": "ipython",
    "version": 3
   },
   "file_extension": ".py",
   "mimetype": "text/x-python",
   "name": "python",
   "nbconvert_exporter": "python",
   "pygments_lexer": "ipython3",
   "version": "3.7.5"
  }
 },
 "nbformat": 4,
 "nbformat_minor": 2
}
