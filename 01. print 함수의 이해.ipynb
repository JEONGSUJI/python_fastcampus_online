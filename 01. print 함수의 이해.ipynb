{
 "cells": [
  {
   "cell_type": "code",
   "execution_count": 1,
   "metadata": {},
   "outputs": [
    {
     "name": "stdout",
     "output_type": "stream",
     "text": [
      "a\n",
      "a\n",
      "\n",
      "a\n"
     ]
    }
   ],
   "source": [
    "# print 함수 기본 사용법\n",
    "print('a')  # a 문자 출력\n",
    "print()     # 빈 한줄이 출력되어 enter를 친 효과를 얻을 수 있다.\n",
    "print('a')"
   ]
  },
  {
   "cell_type": "code",
   "execution_count": 8,
   "metadata": {
    "scrolled": true
   },
   "outputs": [
    {
     "name": "stdout",
     "output_type": "stream",
     "text": [
      "TEST\n",
      "T.E.S.T\n",
      "nana@naver.com\n"
     ]
    }
   ],
   "source": [
    "# print 함수의 Seperator 옵션을 사용하면 출력하고자 하는 단어를 이어붙일 수 있고\n",
    "# 단어 사이 연결부분에 원하는 문자 또는 기호 등을 추가할 수 있다.\n",
    "\n",
    "print('T','E','S','T', sep='')\n",
    "print('T','E','S','T', sep='.')\n",
    "print('nana','naver.com', sep='@')"
   ]
  },
  {
   "cell_type": "code",
   "execution_count": 9,
   "metadata": {},
   "outputs": [
    {
     "name": "stdout",
     "output_type": "stream",
     "text": [
      "Welcome to the World\n"
     ]
    }
   ],
   "source": [
    "# print 함수의 end 옵션을 사용하면 print 함수를 끝을 내지 않고,\n",
    "# 다음에 오는 print 함수와 이어붙여 출력 할 수 있다.\n",
    "\n",
    "print('Welcome', end=' ')\n",
    "print('to the', end=' ')\n",
    "print('World')"
   ]
  },
  {
   "cell_type": "code",
   "execution_count": 6,
   "metadata": {},
   "outputs": [
    {
     "name": "stdout",
     "output_type": "stream",
     "text": [
      "You and me\n",
      "one or two or one\n",
      "6 = 육\n",
      "a 3.140000 5\n",
      "Test:   776, Price: 6534.12\n",
      "Test1:  776, Price: 6534.12\n",
      "Test1:  776, Price: 6534.12\n"
     ]
    }
   ],
   "source": [
    "# print 함수의 format 옵션을 사용\n",
    "\n",
    "print('{} and {}'.format('You', 'me'))\n",
    "print('{0} or {1} or {0}'.format('one', 'two'))\n",
    "print('{a} = {b}'.format(a = '6', b = '육'))\n",
    "\n",
    "print('%s %f %d' % ('a', 3.14, 5))\n",
    "print('Test: %5d, Price: %4.2f' % (776, 6534.123))\n",
    "print('Test1:{0: 5d}, Price:{1: 4.2f}'.format(776, 6534.123))\n",
    "print('Test1:{a: 5d}, Price:{b: 4.2f}'.format(a = 776, b = 6534.123))"
   ]
  },
  {
   "cell_type": "markdown",
   "metadata": {},
   "source": [
    "### 이스케이프 코드란?\n",
    "탈출문자, print를 진행할 때 문제가 생기는 부분을 해결하는 방법\n",
    "\n",
    "- \\n : 개행\n",
    "- \\t : 탭\n",
    "- \\\\ : 역슬래시\n",
    "- \\' or \\\" : 문자\n",
    "- \\r : 캐리지 리턴\n",
    "- \\f : 폼 피드\n",
    "- \\a : 벨소리\n",
    "- \\b : 백 스페이스\n",
    "- \\000 : null문자"
   ]
  },
  {
   "cell_type": "code",
   "execution_count": null,
   "metadata": {},
   "outputs": [],
   "source": []
  }
 ],
 "metadata": {
  "kernelspec": {
   "display_name": "Python 3",
   "language": "python",
   "name": "python3"
  },
  "language_info": {
   "codemirror_mode": {
    "name": "ipython",
    "version": 3
   },
   "file_extension": ".py",
   "mimetype": "text/x-python",
   "name": "python",
   "nbconvert_exporter": "python",
   "pygments_lexer": "ipython3",
   "version": "3.7.5"
  }
 },
 "nbformat": 4,
 "nbformat_minor": 2
}
