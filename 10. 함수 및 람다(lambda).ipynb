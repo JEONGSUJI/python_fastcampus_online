{
 "cells": [
  {
   "cell_type": "markdown",
   "metadata": {},
   "source": [
    "### 함수 정의 및 람다(lambda) 사용\n",
    "\n",
    "함수 사용 이유: 반복적이고 중복적인 행위를 피하기 위해  \n",
    "\n",
    "- 함수 선언\n",
    "    - def 함수명(parameter):\n",
    "        code\n",
    "        \n",
    "- 함수 다양한 사용\n",
    "\n",
    "- 다양한 반환 값\n",
    "\n",
    "- `*args, **kwargs`\n",
    "    - *args\n",
    "        - 매개변수가 몇개가 넘어올지 모르고, 넘어오는 개수에 따라 함수가 작동을 달리할 때 사용한다.\n",
    "        - tuple로 반환된다.\n",
    "    - keyword 인자\n",
    "        - *keyword : tuple로 반환됨\n",
    "        - **keyword : dict로 반환됨\n",
    "\n",
    "- 람다 함수"
   ]
  },
  {
   "cell_type": "code",
   "execution_count": 1,
   "metadata": {},
   "outputs": [],
   "source": [
    "# 함수 정의 방법\n",
    "# def 함수명(parameter):\n",
    "#     code"
   ]
  },
  {
   "cell_type": "code",
   "execution_count": 2,
   "metadata": {},
   "outputs": [],
   "source": [
    "# 함수 선언 위치 중요\n",
    "# 함수 호출 전 함수가 선언되어있지 않으면 오류가 발생한다."
   ]
  },
  {
   "cell_type": "code",
   "execution_count": 3,
   "metadata": {},
   "outputs": [
    {
     "name": "stdout",
     "output_type": "stream",
     "text": [
      "hello python\n"
     ]
    }
   ],
   "source": [
    "# return이 없는 함수\n",
    "def hello(world):\n",
    "    print('hello', world)\n",
    "    \n",
    "hello('python')"
   ]
  },
  {
   "cell_type": "code",
   "execution_count": 4,
   "metadata": {},
   "outputs": [
    {
     "name": "stdout",
     "output_type": "stream",
     "text": [
      "hellopython!\n"
     ]
    }
   ],
   "source": [
    "# return 하는 함수\n",
    "def hello_return(world):\n",
    "    val = 'hello' + str(world)\n",
    "    return val\n",
    "\n",
    "str = hello_return('python!')\n",
    "print(str)"
   ]
  },
  {
   "cell_type": "code",
   "execution_count": 5,
   "metadata": {},
   "outputs": [
    {
     "name": "stdout",
     "output_type": "stream",
     "text": [
      "500 1000 1500\n"
     ]
    }
   ],
   "source": [
    "# 다중 리턴 // python의 특징\n",
    "def func_mul(x):\n",
    "    y1 = x * 100\n",
    "    y2 = x * 200\n",
    "    y3 = x * 300   \n",
    "    return y1,y2,y3\n",
    "\n",
    "val1, val2, val3 = func_mul(5)\n",
    "\n",
    "print(val1, val2, val3)"
   ]
  },
  {
   "cell_type": "code",
   "execution_count": 7,
   "metadata": {},
   "outputs": [
    {
     "name": "stdout",
     "output_type": "stream",
     "text": [
      "<class 'list'> [500, 1000, 1500]\n"
     ]
    }
   ],
   "source": [
    "# 다중 리턴 // python의 특징\n",
    "def func_mul2(x):\n",
    "    y1 = x * 100\n",
    "    y2 = x * 200\n",
    "    y3 = x * 300   \n",
    "    return [y1,y2,y3]\n",
    "\n",
    "listsample = func_mul2(5)\n",
    "\n",
    "print(type(listsample), listsample)"
   ]
  },
  {
   "cell_type": "code",
   "execution_count": 9,
   "metadata": {},
   "outputs": [
    {
     "name": "stdout",
     "output_type": "stream",
     "text": [
      "('kim',)\n",
      "<class 'tuple'>\n",
      "('kim', 'Park')\n",
      "<class 'tuple'>\n"
     ]
    }
   ],
   "source": [
    "# *args, **kwargs\n",
    "\n",
    "# *args : 매개변수가 몇개가 넘어올지 모르고,\n",
    "# 넘어오는 개수에 따라 함수가 작동을 달리할 때 사용한다.\n",
    "# tuple로 반환된다.\n",
    "\n",
    "def args_func(*args):\n",
    "    print(args)\n",
    "    print(type(args))\n",
    "    \n",
    "args_func('kim')\n",
    "args_func('kim', 'Park')"
   ]
  },
  {
   "cell_type": "code",
   "execution_count": 11,
   "metadata": {},
   "outputs": [
    {
     "name": "stdout",
     "output_type": "stream",
     "text": [
      "0 kim\n",
      "1 Park\n"
     ]
    }
   ],
   "source": [
    "def args_func2(*args):\n",
    "    for i,v in enumerate(args):\n",
    "        print(i, v)\n",
    "    \n",
    "args_func2('kim', 'Park')"
   ]
  },
  {
   "cell_type": "code",
   "execution_count": 12,
   "metadata": {},
   "outputs": [],
   "source": [
    "# keyword 인자\n",
    "# *keyword : tuple로 반환됨\n",
    "# **keyword : dict로 반환됨"
   ]
  },
  {
   "cell_type": "code",
   "execution_count": 13,
   "metadata": {},
   "outputs": [
    {
     "name": "stdout",
     "output_type": "stream",
     "text": [
      "{'name1': 'Kim', 'name2': 'Park', 'name3': 'Lee'}\n"
     ]
    }
   ],
   "source": [
    "def kwargs_func(**kwargs):\n",
    "    print(kwargs)\n",
    "\n",
    "kwargs_func(name1='Kim', name2='Park', name3='Lee')"
   ]
  },
  {
   "cell_type": "code",
   "execution_count": 15,
   "metadata": {},
   "outputs": [
    {
     "name": "stdout",
     "output_type": "stream",
     "text": [
      "('Kim', 'Park', 'Lee')\n"
     ]
    }
   ],
   "source": [
    "def kwargs_func2(*kwargs):\n",
    "    print(kwargs)\n",
    "\n",
    "kwargs_func2('Kim', 'Park', 'Lee')"
   ]
  },
  {
   "cell_type": "code",
   "execution_count": 18,
   "metadata": {},
   "outputs": [
    {
     "name": "stdout",
     "output_type": "stream",
     "text": [
      "10 20 () {}\n",
      "10 20 ('park', 'kim') {'age1': 24, 'age2': 35}\n"
     ]
    }
   ],
   "source": [
    "# 전체 혼합\n",
    "def example(arg1, arg2, *arg, **kwargs):\n",
    "    print(arg1, arg2, arg, kwargs)\n",
    "    \n",
    "example(10,20)\n",
    "example(10, 20, 'park', 'kim', age1=24, age2=35)"
   ]
  },
  {
   "cell_type": "code",
   "execution_count": 19,
   "metadata": {},
   "outputs": [
    {
     "name": "stdout",
     "output_type": "stream",
     "text": [
      "in func\n",
      "20000\n"
     ]
    }
   ],
   "source": [
    "# 중첩함수(클로져)\n",
    "def nested_func(num):\n",
    "    def func_in_func(num):\n",
    "        print(num)\n",
    "    print(\"in func\")\n",
    "    func_in_func(num + 10000)\n",
    "    \n",
    "nested_func(10000)"
   ]
  },
  {
   "cell_type": "code",
   "execution_count": 20,
   "metadata": {},
   "outputs": [
    {
     "name": "stdout",
     "output_type": "stream",
     "text": [
      "<class 'list'> [500, 1000, 1500]\n"
     ]
    }
   ],
   "source": [
    "# hint\n",
    "def func_mul2(x : int) -> list:\n",
    "    y1 = x * 100\n",
    "    y2 = x * 200\n",
    "    y3 = x * 300   \n",
    "    return [y1,y2,y3]\n",
    "\n",
    "listsample = func_mul2(5)\n",
    "\n",
    "print(type(listsample), listsample)"
   ]
  },
  {
   "cell_type": "code",
   "execution_count": 22,
   "metadata": {},
   "outputs": [
    {
     "name": "stdout",
     "output_type": "stream",
     "text": [
      "100\n",
      "<class 'function'>\n"
     ]
    }
   ],
   "source": [
    "# 람다식 예제\n",
    "# 람다식 : 메모리 절약, 가독성 향상, 코드 간결\n",
    "# 함수는 객체 생성 -> 리소스(메모리) 할당\n",
    "# 람다는 즉시 실행(heap 초기화) -> 메모리 초기화\n",
    "# 단, 람다만 사용한다면 가독성이 떨어질 수 있다.\n",
    "\n",
    "# 일반적 함수 -> 변수 할당\n",
    "def mul_10(num : int) -> int:\n",
    "    return num * 10\n",
    "\n",
    "var_func = mul_10\n",
    "print(var_func(10))\n",
    "print(type(var_func))"
   ]
  },
  {
   "cell_type": "code",
   "execution_count": 23,
   "metadata": {},
   "outputs": [
    {
     "name": "stdout",
     "output_type": "stream",
     "text": [
      "100\n"
     ]
    }
   ],
   "source": [
    "lambda_mul_10 = lambda num : num * 10\n",
    "print(lambda_mul_10(10))"
   ]
  },
  {
   "cell_type": "code",
   "execution_count": 24,
   "metadata": {},
   "outputs": [
    {
     "name": "stdout",
     "output_type": "stream",
     "text": [
      "10000\n"
     ]
    }
   ],
   "source": [
    "def func_final(x, y, func):\n",
    "    print(x * y * func(10))\n",
    "    \n",
    "func_final(10, 10, lambda_mul_10)"
   ]
  },
  {
   "cell_type": "code",
   "execution_count": 27,
   "metadata": {},
   "outputs": [
    {
     "name": "stdout",
     "output_type": "stream",
     "text": [
      "10000000\n",
      "None\n"
     ]
    }
   ],
   "source": [
    "print(func_final(10, 10, lambda x : x * 10000))"
   ]
  },
  {
   "cell_type": "code",
   "execution_count": null,
   "metadata": {},
   "outputs": [],
   "source": []
  }
 ],
 "metadata": {
  "kernelspec": {
   "display_name": "Python 3",
   "language": "python",
   "name": "python3"
  },
  "language_info": {
   "codemirror_mode": {
    "name": "ipython",
    "version": 3
   },
   "file_extension": ".py",
   "mimetype": "text/x-python",
   "name": "python",
   "nbconvert_exporter": "python",
   "pygments_lexer": "ipython3",
   "version": "3.7.5"
  }
 },
 "nbformat": 4,
 "nbformat_minor": 2
}
