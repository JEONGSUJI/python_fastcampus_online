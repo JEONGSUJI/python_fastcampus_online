{
 "cells": [
  {
   "cell_type": "markdown",
   "metadata": {},
   "source": [
    "- 리스트 특징\n",
    "    - 순서가 있다.\n",
    "    - 중복을 허용한다.\n",
    "    - 수정 및 삭제가 가능하다.\n",
    "    \n",
    "    \n",
    "- 튜플 특징\n",
    "    - 순서가 있다.\n",
    "    - 중복을 허용한다.\n",
    "    - 수정 및 삭제가 불가능하다.\n",
    "    \n",
    "    \n",
    "- 인덱싱\n",
    "- 슬라이싱\n",
    "- 삽입, 삭제, 함수 사용"
   ]
  },
  {
   "cell_type": "code",
   "execution_count": 10,
   "metadata": {},
   "outputs": [
    {
     "name": "stdout",
     "output_type": "stream",
     "text": [
      "banana\n",
      "Pen\n",
      "110\n",
      "banana\n",
      "Pen\n",
      "['banana']\n"
     ]
    }
   ],
   "source": [
    "# 리스트 선언 방법\n",
    "a = []\n",
    "b = list()\n",
    "c = [1, 2, 3, 4]\n",
    "d = [10, 100, 'Pen', 'banana']\n",
    "e = [10, 100, ['Pen', 'banana']]\n",
    "\n",
    "# 인덱싱 / 슬라이싱\n",
    "print(d[3])\n",
    "print(d[-2])\n",
    "print(d[0] + d[1])\n",
    "print(e[2][1])\n",
    "print(e[-1][-2])\n",
    "\n",
    "print(e[2][1:2])"
   ]
  },
  {
   "cell_type": "code",
   "execution_count": 13,
   "metadata": {},
   "outputs": [
    {
     "name": "stdout",
     "output_type": "stream",
     "text": [
      "[1, 2, 3, 4, 10, 100, 'Pen', 'banana']\n",
      "[1, 2, 3, 4, 1, 2, 3, 4, 1, 2, 3, 4]\n",
      "1hi\n"
     ]
    }
   ],
   "source": [
    "# 연산\n",
    "print(c + d)\n",
    "print(c * 3)\n",
    "print(str(c[0]) + 'hi')"
   ]
  },
  {
   "cell_type": "code",
   "execution_count": 22,
   "metadata": {},
   "outputs": [
    {
     "name": "stdout",
     "output_type": "stream",
     "text": [
      "[77, ['a', 'b', 'c'], 1000, 1000, 1000, 3, 4]\n",
      "[77, 100, 1000, 1000, 1000, 1000, 3, 4]\n",
      "[77, ['a', 'b', 'c'], 1000, 1000, 1000, 1000, 3, 4]\n",
      "[77, 1000, 1000, 1000, 1000, 3, 4]\n",
      "[77, ['a', 'b', 'c'], 1000, 1000, 1000, 3, 4]\n"
     ]
    }
   ],
   "source": [
    "# 리스트 수정, 삭제\n",
    "c[0] = 77\n",
    "print(c)\n",
    "\n",
    "c[1:2] = [100, 1000]\n",
    "print(c)\n",
    "\n",
    "c[1] = ['a', 'b', 'c']\n",
    "print(c)\n",
    "\n",
    "# 슬라이싱 처리를 했을 때는 원소로 들어갔지만,\n",
    "# 그냥 인덱스로 할당한 경우에는 해당 인덱스 위치에 리스트가 들어간다.\n",
    "\n",
    "del c[1]\n",
    "print(c)\n",
    "\n",
    "c[1] = ['a', 'b', 'c']\n",
    "print(c)"
   ]
  },
  {
   "cell_type": "code",
   "execution_count": 36,
   "metadata": {},
   "outputs": [
    {
     "name": "stdout",
     "output_type": "stream",
     "text": [
      "[5, 2, 3, 1, 4]\n",
      "[5, 2, 3, 1, 4, 6]\n",
      "[1, 2, 3, 4, 5, 6]\n",
      "[6, 5, 4, 3, 2, 1]\n",
      "[6, 5, 7, 4, 3, 2, 1]\n",
      "[6, 5, 7, 4, 3, 1]\n",
      "[6, 5, 7, 4, 3]\n",
      "[6, 5, 7, 4, 3, 10, 10]\n",
      "[6, 5, 7, 4, 3, 10, 10, [10, 10]]\n"
     ]
    }
   ],
   "source": [
    "# 리스트 함수\n",
    "y = [5,2,3,1,4]\n",
    "print(y)\n",
    "\n",
    "y.append(6)\n",
    "print(y)\n",
    "\n",
    "y.sort()\n",
    "print(y)\n",
    "\n",
    "y.reverse()\n",
    "print(y)\n",
    "\n",
    "y.insert(2,7) #(인덱스, 넣을 값)\n",
    "print(y)\n",
    "\n",
    "# del y[]와 y.remove의 차이\n",
    "# del y[]는 인덱스에 해당하는 것을 지웠지만\n",
    "# y.remove는 해당하는 값을 찾아 지운다.\n",
    "y.remove(2)\n",
    "print(y)\n",
    "\n",
    "y.pop()\n",
    "print(y)\n",
    "\n",
    "# extend는 기존 리스트에 연장하는 것\n",
    "ex = [10,10]\n",
    "y.extend(ex)\n",
    "print(y)\n",
    "\n",
    "# append는 리스트 자체를 삽입하는 것\n",
    "ex = [10,10]\n",
    "y.append(ex)\n",
    "print(y)"
   ]
  },
  {
   "cell_type": "code",
   "execution_count": 44,
   "metadata": {},
   "outputs": [
    {
     "name": "stdout",
     "output_type": "stream",
     "text": [
      "3\n",
      "4\n",
      "b\n",
      "('a', 'b')\n",
      "(('a', 'b'),)\n",
      "(1, 2, 3, 4, 10, 100, ('a', 'b'))\n"
     ]
    }
   ],
   "source": [
    "# 튜플 선언\n",
    "a = ()\n",
    "b = (1, )\n",
    "c = (1, 2, 3, 4)\n",
    "d = (10, 100, ('a', 'b'))\n",
    "\n",
    "print(c[2])\n",
    "print(c[3])\n",
    "print(d[2][1])\n",
    "\n",
    "print(d[2])\n",
    "print(d[2:])\n",
    "\n",
    "print(c + d)"
   ]
  },
  {
   "cell_type": "code",
   "execution_count": 47,
   "metadata": {},
   "outputs": [
    {
     "name": "stdout",
     "output_type": "stream",
     "text": [
      "(5, 2, 1, 3, 4)\n",
      "True\n",
      "4\n",
      "1\n"
     ]
    }
   ],
   "source": [
    "# 튜플 함수\n",
    "z = (5,2,1,3,4)\n",
    "\n",
    "print(z)\n",
    "print(3 in z)\n",
    "print(z.index(4))\n",
    "print(z.count(1))"
   ]
  },
  {
   "cell_type": "code",
   "execution_count": null,
   "metadata": {},
   "outputs": [],
   "source": []
  }
 ],
 "metadata": {
  "kernelspec": {
   "display_name": "Python 3",
   "language": "python",
   "name": "python3"
  },
  "language_info": {
   "codemirror_mode": {
    "name": "ipython",
    "version": 3
   },
   "file_extension": ".py",
   "mimetype": "text/x-python",
   "name": "python",
   "nbconvert_exporter": "python",
   "pygments_lexer": "ipython3",
   "version": "3.7.5"
  }
 },
 "nbformat": 4,
 "nbformat_minor": 2
}
