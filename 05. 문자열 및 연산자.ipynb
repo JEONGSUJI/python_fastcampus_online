{
 "cells": [
  {
   "cell_type": "markdown",
   "metadata": {},
   "source": [
    "### 문자형 관련 연산자\n",
    "- 문자열 생성, 길이\n",
    "- 이스케이프 문자\n",
    "- 문자열 연산\n",
    "- 문자열 형 변환\n",
    "- 문자열 함수\n",
    "- 문자열 슬라이싱"
   ]
  },
  {
   "cell_type": "code",
   "execution_count": 9,
   "metadata": {},
   "outputs": [
    {
     "name": "stdout",
     "output_type": "stream",
     "text": [
      "9 4 0 1 0 3\n"
     ]
    }
   ],
   "source": [
    "# 문자열 생성\n",
    "str1 = \"I am Girl\"\n",
    "str2 = 'Nice'\n",
    "str3 = ''\n",
    "str4 = ' '\n",
    "str5 = str()\n",
    "str6 = str('abc')\n",
    "\n",
    "# 문자열 길이 / len()을 사용한다.\n",
    "# 공백은 0, 띄어쓰기는 1로 측정된다.\n",
    "# 문자열로 변환하는 str()도 공백으로 측정된다.\n",
    "print(len(str1), len(str2), len(str3), len(str4), len(str5), len(str6))"
   ]
  },
  {
   "cell_type": "code",
   "execution_count": 10,
   "metadata": {},
   "outputs": [
    {
     "name": "stdout",
     "output_type": "stream",
     "text": [
      "C:\\Programs\\Test\\Bin\n"
     ]
    }
   ],
   "source": [
    "# Raw String\n",
    "# r'' 사이에 입력한 문자는 그대로 출력된다.\n",
    "raw_s1 = r'C:\\Programs\\Test\\Bin'\n",
    "print(raw_s1)"
   ]
  },
  {
   "cell_type": "code",
   "execution_count": 16,
   "metadata": {},
   "outputs": [
    {
     "name": "stdout",
     "output_type": "stream",
     "text": [
      "\n",
      "멀티라인\n",
      "테스트\n",
      "\n"
     ]
    }
   ],
   "source": [
    "# 멀티라인\n",
    "multi = ''' 멀티라인 테스트'''\n",
    "\n",
    "# \\는 다음줄에 이어진다고 python에게 알려주는 것이다.\n",
    "multi = \\\n",
    "'''\n",
    "멀티라인\n",
    "테스트\n",
    "'''\n",
    "\n",
    "print(multi)"
   ]
  },
  {
   "cell_type": "code",
   "execution_count": 27,
   "metadata": {},
   "outputs": [
    {
     "name": "stdout",
     "output_type": "stream",
     "text": [
      "8888888888\n",
      "abcdef\n",
      "True\n",
      "True\n"
     ]
    }
   ],
   "source": [
    "# 문자열 연산\n",
    "str_o1 = '8'\n",
    "str_o2 = 'abc'\n",
    "str_o3 = 'def'\n",
    "str_o4 = 'hello'\n",
    "\n",
    "print(str_o1 * 10)\n",
    "print(str_o2 + str_o3)\n",
    "\n",
    "# 문자열은 이터러블 객체이기 때문에, in을 사용해 특정 문자가 포함되어 있는지 확인할 수 있다.\n",
    "print('e' in str_o4)\n",
    "print('a' not in str_o4)"
   ]
  },
  {
   "cell_type": "code",
   "execution_count": 31,
   "metadata": {},
   "outputs": [
    {
     "name": "stdout",
     "output_type": "stream",
     "text": [
      "77\n",
      "<class 'str'>\n"
     ]
    }
   ],
   "source": [
    "# 문자열 형변환\n",
    "a = 77\n",
    "a = str(a)\n",
    "\n",
    "print(a)\n",
    "print(type(a))"
   ]
  },
  {
   "cell_type": "code",
   "execution_count": 36,
   "metadata": {},
   "outputs": [
    {
     "name": "stdout",
     "output_type": "stream",
     "text": [
      "True\n",
      "True\n",
      "77\n",
      "77\n",
      "['e', 'g', 'n', 'a', 'r', 'o']\n"
     ]
    }
   ],
   "source": [
    "# 문자열 함수\n",
    "# 참고 : http://www.w3schools.com/python/python_ref_string.asp\n",
    "nice = 'nice girl'\n",
    "fruit = 'orange'\n",
    "\n",
    "print(nice.islower())\n",
    "print(fruit.endswith('e'))\n",
    "print(a.capitalize())\n",
    "print(a.replace('nice', 'good'))\n",
    "print(list(reversed(fruit)))"
   ]
  },
  {
   "cell_type": "code",
   "execution_count": 47,
   "metadata": {},
   "outputs": [
    {
     "name": "stdout",
     "output_type": "stream",
     "text": [
      "nic\n",
      "nice\n",
      "nice girl\n",
      "oa\n",
      "ran\n",
      "egnaro\n"
     ]
    }
   ],
   "source": [
    "# 문자열 슬라이싱\n",
    "print(nice[0:3])\n",
    "print(nice[0:4])\n",
    "print(nice[0:len(nice)])\n",
    "\n",
    "print(fruit[0:4:2])\n",
    "print(fruit[1:-2])\n",
    "print(fruit[::-1])"
   ]
  },
  {
   "cell_type": "code",
   "execution_count": null,
   "metadata": {},
   "outputs": [],
   "source": []
  }
 ],
 "metadata": {
  "kernelspec": {
   "display_name": "Python 3",
   "language": "python",
   "name": "python3"
  },
  "language_info": {
   "codemirror_mode": {
    "name": "ipython",
    "version": 3
   },
   "file_extension": ".py",
   "mimetype": "text/x-python",
   "name": "python",
   "nbconvert_exporter": "python",
   "pygments_lexer": "ipython3",
   "version": "3.7.5"
  }
 },
 "nbformat": 4,
 "nbformat_minor": 2
}
