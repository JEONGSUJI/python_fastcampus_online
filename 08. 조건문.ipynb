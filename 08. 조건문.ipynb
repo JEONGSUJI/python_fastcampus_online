{
 "cells": [
  {
   "cell_type": "markdown",
   "metadata": {},
   "source": [
    "### if(조건문)\n",
    "\n",
    "- 조건문 기본 형식\n",
    "- 관계 연산자 실습\n",
    "    - `>, >=, <, <=, ==, !=`\n",
    "- 논리 연산자 실습\n",
    "    - 산술> 관계> 논리 순서로 적용된다.\n",
    "- 다중 조건문\n",
    "- 중첩 조건문\n",
    "\n",
    "+. 참 거짓 종류(True, False)  \n",
    "참: '내용', [내용], (내용), {내용}, 1  \n",
    "거짓: '', [], (), {}, 0"
   ]
  },
  {
   "cell_type": "code",
   "execution_count": 3,
   "metadata": {},
   "outputs": [
    {
     "name": "stdout",
     "output_type": "stream",
     "text": [
      "Yes\n"
     ]
    }
   ],
   "source": [
    "if True:\n",
    "    print(\"Yes\")\n",
    "else:\n",
    "    print(\"No\")"
   ]
  },
  {
   "cell_type": "code",
   "execution_count": 4,
   "metadata": {},
   "outputs": [
    {
     "name": "stdout",
     "output_type": "stream",
     "text": [
      "등급 B 80\n"
     ]
    }
   ],
   "source": [
    "num = 80\n",
    "\n",
    "if num >= 90:\n",
    "    print('등급 A', num)\n",
    "elif num >= 80:\n",
    "    print('등급 B', num)\n",
    "else:\n",
    "    print('등급 C', num)"
   ]
  },
  {
   "cell_type": "code",
   "execution_count": null,
   "metadata": {},
   "outputs": [],
   "source": []
  }
 ],
 "metadata": {
  "kernelspec": {
   "display_name": "Python 3",
   "language": "python",
   "name": "python3"
  },
  "language_info": {
   "codemirror_mode": {
    "name": "ipython",
    "version": 3
   },
   "file_extension": ".py",
   "mimetype": "text/x-python",
   "name": "python",
   "nbconvert_exporter": "python",
   "pygments_lexer": "ipython3",
   "version": "3.7.5"
  }
 },
 "nbformat": 4,
 "nbformat_minor": 2
}
