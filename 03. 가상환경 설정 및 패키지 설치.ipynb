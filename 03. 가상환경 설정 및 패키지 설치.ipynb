{
 "cells": [
  {
   "cell_type": "markdown",
   "metadata": {},
   "source": [
    "### 가상환경의 필요성\n",
    "- 사용하는 이유\n",
    "    - 프로젝트마다 Python의 버전 등 환경변수가 다를 경우 각각에 맞는 가상환경을 세팅할 수 있기 때문이다.\n",
    "\n",
    "프로젝트 A: Python 3.5, Django, Web / 프로젝트 B: Numpy, Tensorflow, PyQT5 / 프로젝트 C: Web, Data Analysis, GUI APP\n",
    "\n",
    "위와 같이 여러 프로젝트가 진행되는 경우 각각 프로젝트의 환경에 맞게 세팅하고, 특정 프로젝트 종료 시 해당 가상환경만 지워주면 되기 때문에 관리가 편리하다.\n",
    "\n",
    "한 컴퓨터에서 여러 가상환경 세팅이 가능하다."
   ]
  },
  {
   "cell_type": "markdown",
   "metadata": {},
   "source": [
    "### 파이썬 가상환경 명령어 기초\n",
    "\n",
    "- 가상환경 설정\n",
    "    - 터미널에서 ```python -m venv [가상환경을 설정할 위치]``` 입력\n",
    "    > include, Lib, Scripts 폴더가 생성됨\n",
    "    \n",
    "- 가상환경 실행 / 해제\n",
    "    - 터미널에서 ```dir``` 입력 시 출력되는 정보에 window의 경우 Scripts 폴더, mac의 경우 bin 폴더에 가상환경을 on/off하는 파일이 있다.\n",
    "    - 터미널에서 ```cd Scripts```입력 ```activate.bat```입력 시 가상환경이 활성화된다.\n",
    "    - 터미널에서 ```deactivate.bat``` 입력 시 해당 가상환경을 빠져 나갈 수 있다.\n",
    "    \n",
    "    \n",
    "- 가상환경에 원하는 외부 패키지 설치\n",
    "    - 가상환경이 구동된 상황에서 원하는 패키지 등을 설치해 진행할 수 있다.\n",
    "    - ```pip search simplejson```: simplejson에 대한 정보가 출력된다.\n",
    "    - ```pip search simple*```: simple이 들어간 정보가 출력된다.\n",
    "    - ```pip install simplejson```: simplejson이 설치된다.\n",
    "    - ```pip install --upgrade simplejson```: simplejson이 업그레이드 된다.\n",
    "    - ```pip uninstall simplejson```: simplejson를 삭제할 수 있다.\n"
   ]
  },
  {
   "cell_type": "code",
   "execution_count": null,
   "metadata": {},
   "outputs": [],
   "source": []
  }
 ],
 "metadata": {
  "kernelspec": {
   "display_name": "Python 3",
   "language": "python",
   "name": "python3"
  },
  "language_info": {
   "codemirror_mode": {
    "name": "ipython",
    "version": 3
   },
   "file_extension": ".py",
   "mimetype": "text/x-python",
   "name": "python",
   "nbconvert_exporter": "python",
   "pygments_lexer": "ipython3",
   "version": "3.7.5"
  }
 },
 "nbformat": 4,
 "nbformat_minor": 2
}
