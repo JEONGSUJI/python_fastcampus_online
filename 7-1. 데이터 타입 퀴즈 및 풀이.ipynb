{
 "cells": [
  {
   "cell_type": "code",
   "execution_count": 1,
   "metadata": {},
   "outputs": [],
   "source": [
    "# 데이터 타입 중간 점검 퀴즈~!"
   ]
  },
  {
   "cell_type": "code",
   "execution_count": 2,
   "metadata": {},
   "outputs": [
    {
     "data": {
      "text/plain": [
       "38"
      ]
     },
     "execution_count": 2,
     "metadata": {},
     "output_type": "execute_result"
    }
   ],
   "source": [
    "# 1. 아래 문자열의 길이를 구해보세요.\n",
    "q1 = \"dk2jd923i1jdk2jd93jfd92jd918943jfd8923\"\n",
    "len(q1)"
   ]
  },
  {
   "cell_type": "code",
   "execution_count": 3,
   "metadata": {},
   "outputs": [
    {
     "name": "stdout",
     "output_type": "stream",
     "text": [
      "apple;orange;banana;lemon\n"
     ]
    }
   ],
   "source": [
    "# 2. print 함수를 사용해서 아래와 같이 출력해보세요\n",
    "print('apple;orange;banana;lemon')"
   ]
  },
  {
   "cell_type": "code",
   "execution_count": 4,
   "metadata": {},
   "outputs": [
    {
     "name": "stdout",
     "output_type": "stream",
     "text": [
      "****************************************************************************************************\n"
     ]
    }
   ],
   "source": [
    "# 3. 화면에 * 기호 100개를 표시하세요.\n",
    "print('*' * 100)"
   ]
  },
  {
   "cell_type": "code",
   "execution_count": 5,
   "metadata": {},
   "outputs": [
    {
     "name": "stdout",
     "output_type": "stream",
     "text": [
      "<class 'int'>\n",
      "<class 'float'>\n",
      "<class 'complex'>\n",
      "<class 'str'>\n"
     ]
    }
   ],
   "source": [
    "# 4. 문자열 '30'을 각각 정수형, 실수형, 복소수형, 문자형으로 변환해보세요.\n",
    "sample = '30'\n",
    "\n",
    "sample = int(sample)\n",
    "print(type(sample))\n",
    "\n",
    "sample = float(sample)\n",
    "print(type(sample))\n",
    "\n",
    "sample = complex(sample)\n",
    "print(type(sample))\n",
    "\n",
    "sample = str(sample)\n",
    "print(type(sample))"
   ]
  },
  {
   "cell_type": "code",
   "execution_count": 6,
   "metadata": {},
   "outputs": [
    {
     "name": "stdout",
     "output_type": "stream",
     "text": [
      "man\n",
      "man\n",
      "man\n",
      "man\n",
      "man\n"
     ]
    }
   ],
   "source": [
    "# 5. 다음 문자열 'Niceman' 에서 'man' 문자열만 추출해보세요.\n",
    "\n",
    "nice = 'Niceman'\n",
    "nice_idx = nice.index(\"man\")\n",
    "\n",
    "print(nice[4:])\n",
    "print(nice[4:7])\n",
    "print(nice[-3:])\n",
    "\n",
    "print(nice[nice_idx:])\n",
    "print(nice[nice_idx:nice_idx+3])"
   ]
  },
  {
   "cell_type": "code",
   "execution_count": 7,
   "metadata": {},
   "outputs": [
    {
     "name": "stdout",
     "output_type": "stream",
     "text": [
      "yrrebwartS\n",
      "['S', 't', 'r', 'a', 'w', 'b', 'e', 'r', 'r', 'y']\n",
      "yrrebwartS\n"
     ]
    }
   ],
   "source": [
    "# 6. 다음 문자열을 거꾸로 출력해보세요.\n",
    "\n",
    "## 방법 1) \n",
    "strawberry = 'Strawberry'\n",
    "print(strawberry[::-1])\n",
    "\n",
    "## 방법 2) \n",
    "strawberry = 'Strawberry'\n",
    "strawberry = list(strawberry)\n",
    "print(strawberry)\n",
    "\n",
    "strawberry = list(reversed(strawberry))\n",
    "print(''.join(strawberry))"
   ]
  },
  {
   "cell_type": "code",
   "execution_count": 8,
   "metadata": {},
   "outputs": [
    {
     "name": "stdout",
     "output_type": "stream",
     "text": [
      "01077779999\n",
      "01077779999\n",
      "01077779999\n"
     ]
    }
   ],
   "source": [
    "# 7. 다음 문자열에서 '-'를 제거 후 출력하세요. : \"010-7777-9999\"\n",
    "\n",
    "## 방법 1) \n",
    "number = \"010-7777-9999\"\n",
    "print(number.replace('-',''))\n",
    "\n",
    "\n",
    "## 방법 2) \n",
    "print(number[0:3]+number[4:8]+number[9:13])\n",
    "\n",
    "## 방법 3)\n",
    "import re\n",
    "print(re.sub('[^0-9]','',number))"
   ]
  },
  {
   "cell_type": "code",
   "execution_count": 9,
   "metadata": {},
   "outputs": [
    {
     "name": "stdout",
     "output_type": "stream",
     "text": [
      "daum.net\n",
      "daum.net\n",
      "daum.net\n"
     ]
    }
   ],
   "source": [
    "# 8. 다음 문자열(URL)에서 \"http://\" 부분을 제거 후 출력하세요 : \"http://daum.net\"\n",
    "url = \"http://daum.net\"\n",
    "print(url[7:])\n",
    "print(url[-8:])\n",
    "\n",
    "print(url.replace('http://', ''))"
   ]
  },
  {
   "cell_type": "code",
   "execution_count": 10,
   "metadata": {},
   "outputs": [
    {
     "name": "stdout",
     "output_type": "stream",
     "text": [
      "NICEMAN\n",
      "niceman\n"
     ]
    }
   ],
   "source": [
    "# 9. 다음 문자열을 모두 대문자, 소문자로 각각 출력해보세요. : \"NiceMan\"\n",
    "nice = \"NiceMan\"\n",
    "print(nice.upper())\n",
    "print(nice.lower())"
   ]
  },
  {
   "cell_type": "code",
   "execution_count": 11,
   "metadata": {},
   "outputs": [
    {
     "name": "stdout",
     "output_type": "stream",
     "text": [
      "cde\n"
     ]
    }
   ],
   "source": [
    "# 10. 다음 문자열을 슬라이싱을 이용해서 \"cde\"만 출력하세요. : \"abcdefghijklmn\"\n",
    "a = \"abcdefghijklmn\"\n",
    "print(a[2:5])"
   ]
  },
  {
   "cell_type": "code",
   "execution_count": 12,
   "metadata": {},
   "outputs": [
    {
     "name": "stdout",
     "output_type": "stream",
     "text": [
      "['Banana', 'Orange']\n",
      "['Banana', 'Orange']\n"
     ]
    }
   ],
   "source": [
    "# 11. 다음 리스트에서 \"Apple\" 항목만 삭제하세요. : [\"Banana\", \"Apple\", \"Orange\"]\n",
    "\n",
    "sample_list = [\"Banana\", \"Apple\", \"Orange\"]\n",
    "\n",
    "del sample_list[1]\n",
    "print(sample_list)\n",
    "\n",
    "sample_list = [\"Banana\", \"Apple\", \"Orange\"]\n",
    "\n",
    "sample_list.remove('Apple')\n",
    "print(sample_list)"
   ]
  },
  {
   "cell_type": "code",
   "execution_count": 13,
   "metadata": {},
   "outputs": [
    {
     "name": "stdout",
     "output_type": "stream",
     "text": [
      "<class 'tuple'>\n",
      "<class 'list'>\n"
     ]
    }
   ],
   "source": [
    "# 12. 다음 튜플을 리스트로 변환하세요. : (1,2,3,4)\n",
    "\n",
    "sample = (1,2,3,4)\n",
    "print(type(sample))\n",
    "\n",
    "sample = list(sample)\n",
    "print(type(sample))"
   ]
  },
  {
   "cell_type": "code",
   "execution_count": 14,
   "metadata": {},
   "outputs": [
    {
     "name": "stdout",
     "output_type": "stream",
     "text": [
      "{'성인': 100000, '청소년': 70000, '아동': 30000}\n",
      "<class 'dict'>\n"
     ]
    }
   ],
   "source": [
    "# 13. 다음 항목을 딕셔너리(dict)으로 선언해보세요. : <성인 - 100000 , 청소년 - 70000 , 아동 - 30000>\n",
    "\n",
    "price = {\n",
    "    '성인' : 100000,\n",
    "    '청소년' : 70000,\n",
    "    '아동' : 30000\n",
    "}\n",
    "\n",
    "print(price)\n",
    "print(type(price))"
   ]
  },
  {
   "cell_type": "code",
   "execution_count": 15,
   "metadata": {},
   "outputs": [
    {
     "name": "stdout",
     "output_type": "stream",
     "text": [
      "{'성인': 100000, '청소년': 70000, '아동': 30000, '소아': 0}\n"
     ]
    }
   ],
   "source": [
    "# 14. 13번 에서 선언한 dict 항목에 <소아 - 0> 항목을 추가해보세요.\n",
    "\n",
    "price['소아'] = 0\n",
    "\n",
    "print(price)"
   ]
  },
  {
   "cell_type": "code",
   "execution_count": 16,
   "metadata": {},
   "outputs": [
    {
     "name": "stdout",
     "output_type": "stream",
     "text": [
      "dict_keys(['성인', '청소년', '아동', '소아'])\n",
      "['성인', '청소년', '아동', '소아']\n"
     ]
    }
   ],
   "source": [
    "# 15. 13번에서 선언한 딕셔너리(dict)에서 Key 항목만 출력해보세요.\n",
    "price_age = price.keys()\n",
    "print(price_age)\n",
    "print(list(price_age))"
   ]
  },
  {
   "cell_type": "code",
   "execution_count": 17,
   "metadata": {},
   "outputs": [
    {
     "name": "stdout",
     "output_type": "stream",
     "text": [
      "dict_values([100000, 70000, 30000, 0])\n",
      "[100000, 70000, 30000, 0]\n"
     ]
    }
   ],
   "source": [
    "# 16. 13번에서 선언한 딕셔너리(dict)에서 value 항목만 출력해보세요.\n",
    "price = price.values()\n",
    "print(price)\n",
    "print(list(price))"
   ]
  },
  {
   "cell_type": "code",
   "execution_count": null,
   "metadata": {},
   "outputs": [],
   "source": []
  }
 ],
 "metadata": {
  "kernelspec": {
   "display_name": "Python 3",
   "language": "python",
   "name": "python3"
  },
  "language_info": {
   "codemirror_mode": {
    "name": "ipython",
    "version": 3
   },
   "file_extension": ".py",
   "mimetype": "text/x-python",
   "name": "python",
   "nbconvert_exporter": "python",
   "pygments_lexer": "ipython3",
   "version": "3.7.5"
  }
 },
 "nbformat": 4,
 "nbformat_minor": 2
}
